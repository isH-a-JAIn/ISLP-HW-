{
 "cells": [
  {
   "cell_type": "markdown",
   "id": "1305920c",
   "metadata": {},
   "source": [
    "# Section 4.7"
   ]
  },
  {
   "cell_type": "markdown",
   "id": "d38675eb",
   "metadata": {},
   "source": [
    "# 13"
   ]
  },
  {
   "cell_type": "code",
   "execution_count": 1,
   "id": "06201182",
   "metadata": {},
   "outputs": [],
   "source": [
    "import numpy as np\n",
    "import pandas as pd\n",
    "from matplotlib.pyplot import subplots\n",
    "import statsmodels.api as sm\n",
    "from ISLP import load_data\n",
    "from ISLP.models import (ModelSpec as MS,\n",
    "                         summarize)"
   ]
  },
  {
   "cell_type": "code",
   "execution_count": 2,
   "id": "9543aed1",
   "metadata": {},
   "outputs": [],
   "source": [
    "from ISLP import confusion_table\n",
    "from ISLP.models import contrast\n",
    "from sklearn.discriminant_analysis import \\\n",
    "     (LinearDiscriminantAnalysis as LDA,\n",
    "      QuadraticDiscriminantAnalysis as QDA)\n",
    "from sklearn.naive_bayes import GaussianNB\n",
    "from sklearn.neighbors import KNeighborsClassifier\n",
    "from sklearn.preprocessing import StandardScaler\n",
    "from sklearn.model_selection import train_test_split\n",
    "from sklearn.linear_model import LogisticRegression"
   ]
  },
  {
   "cell_type": "code",
   "execution_count": 3,
   "id": "a2bd934f",
   "metadata": {},
   "outputs": [
    {
     "data": {
      "text/html": [
       "<div>\n",
       "<style scoped>\n",
       "    .dataframe tbody tr th:only-of-type {\n",
       "        vertical-align: middle;\n",
       "    }\n",
       "\n",
       "    .dataframe tbody tr th {\n",
       "        vertical-align: top;\n",
       "    }\n",
       "\n",
       "    .dataframe thead th {\n",
       "        text-align: right;\n",
       "    }\n",
       "</style>\n",
       "<table border=\"1\" class=\"dataframe\">\n",
       "  <thead>\n",
       "    <tr style=\"text-align: right;\">\n",
       "      <th></th>\n",
       "      <th>Year</th>\n",
       "      <th>Lag1</th>\n",
       "      <th>Lag2</th>\n",
       "      <th>Lag3</th>\n",
       "      <th>Lag4</th>\n",
       "      <th>Lag5</th>\n",
       "      <th>Volume</th>\n",
       "      <th>Today</th>\n",
       "      <th>Direction</th>\n",
       "    </tr>\n",
       "  </thead>\n",
       "  <tbody>\n",
       "    <tr>\n",
       "      <th>0</th>\n",
       "      <td>1990</td>\n",
       "      <td>0.816</td>\n",
       "      <td>1.572</td>\n",
       "      <td>-3.936</td>\n",
       "      <td>-0.229</td>\n",
       "      <td>-3.484</td>\n",
       "      <td>0.154976</td>\n",
       "      <td>-0.270</td>\n",
       "      <td>Down</td>\n",
       "    </tr>\n",
       "    <tr>\n",
       "      <th>1</th>\n",
       "      <td>1990</td>\n",
       "      <td>-0.270</td>\n",
       "      <td>0.816</td>\n",
       "      <td>1.572</td>\n",
       "      <td>-3.936</td>\n",
       "      <td>-0.229</td>\n",
       "      <td>0.148574</td>\n",
       "      <td>-2.576</td>\n",
       "      <td>Down</td>\n",
       "    </tr>\n",
       "    <tr>\n",
       "      <th>2</th>\n",
       "      <td>1990</td>\n",
       "      <td>-2.576</td>\n",
       "      <td>-0.270</td>\n",
       "      <td>0.816</td>\n",
       "      <td>1.572</td>\n",
       "      <td>-3.936</td>\n",
       "      <td>0.159837</td>\n",
       "      <td>3.514</td>\n",
       "      <td>Up</td>\n",
       "    </tr>\n",
       "    <tr>\n",
       "      <th>3</th>\n",
       "      <td>1990</td>\n",
       "      <td>3.514</td>\n",
       "      <td>-2.576</td>\n",
       "      <td>-0.270</td>\n",
       "      <td>0.816</td>\n",
       "      <td>1.572</td>\n",
       "      <td>0.161630</td>\n",
       "      <td>0.712</td>\n",
       "      <td>Up</td>\n",
       "    </tr>\n",
       "    <tr>\n",
       "      <th>4</th>\n",
       "      <td>1990</td>\n",
       "      <td>0.712</td>\n",
       "      <td>3.514</td>\n",
       "      <td>-2.576</td>\n",
       "      <td>-0.270</td>\n",
       "      <td>0.816</td>\n",
       "      <td>0.153728</td>\n",
       "      <td>1.178</td>\n",
       "      <td>Up</td>\n",
       "    </tr>\n",
       "  </tbody>\n",
       "</table>\n",
       "</div>"
      ],
      "text/plain": [
       "   Year   Lag1   Lag2   Lag3   Lag4   Lag5    Volume  Today Direction\n",
       "0  1990  0.816  1.572 -3.936 -0.229 -3.484  0.154976 -0.270      Down\n",
       "1  1990 -0.270  0.816  1.572 -3.936 -0.229  0.148574 -2.576      Down\n",
       "2  1990 -2.576 -0.270  0.816  1.572 -3.936  0.159837  3.514        Up\n",
       "3  1990  3.514 -2.576 -0.270  0.816  1.572  0.161630  0.712        Up\n",
       "4  1990  0.712  3.514 -2.576 -0.270  0.816  0.153728  1.178        Up"
      ]
     },
     "execution_count": 3,
     "metadata": {},
     "output_type": "execute_result"
    }
   ],
   "source": [
    "Weekly = load_data('Weekly')\n",
    "Weekly.head(5)"
   ]
  },
  {
   "cell_type": "code",
   "execution_count": 4,
   "id": "f4b2b25b",
   "metadata": {},
   "outputs": [
    {
     "data": {
      "text/html": [
       "<div>\n",
       "<style scoped>\n",
       "    .dataframe tbody tr th:only-of-type {\n",
       "        vertical-align: middle;\n",
       "    }\n",
       "\n",
       "    .dataframe tbody tr th {\n",
       "        vertical-align: top;\n",
       "    }\n",
       "\n",
       "    .dataframe thead th {\n",
       "        text-align: right;\n",
       "    }\n",
       "</style>\n",
       "<table border=\"1\" class=\"dataframe\">\n",
       "  <thead>\n",
       "    <tr style=\"text-align: right;\">\n",
       "      <th></th>\n",
       "      <th>Year</th>\n",
       "      <th>Lag1</th>\n",
       "      <th>Lag2</th>\n",
       "      <th>Lag3</th>\n",
       "      <th>Lag4</th>\n",
       "      <th>Lag5</th>\n",
       "      <th>Volume</th>\n",
       "      <th>Today</th>\n",
       "      <th>Direction</th>\n",
       "    </tr>\n",
       "  </thead>\n",
       "  <tbody>\n",
       "    <tr>\n",
       "      <th>0</th>\n",
       "      <td>1990</td>\n",
       "      <td>0.816</td>\n",
       "      <td>1.572</td>\n",
       "      <td>-3.936</td>\n",
       "      <td>-0.229</td>\n",
       "      <td>-3.484</td>\n",
       "      <td>0.154976</td>\n",
       "      <td>-0.270</td>\n",
       "      <td>Down</td>\n",
       "    </tr>\n",
       "    <tr>\n",
       "      <th>1</th>\n",
       "      <td>1990</td>\n",
       "      <td>-0.270</td>\n",
       "      <td>0.816</td>\n",
       "      <td>1.572</td>\n",
       "      <td>-3.936</td>\n",
       "      <td>-0.229</td>\n",
       "      <td>0.148574</td>\n",
       "      <td>-2.576</td>\n",
       "      <td>Down</td>\n",
       "    </tr>\n",
       "    <tr>\n",
       "      <th>2</th>\n",
       "      <td>1990</td>\n",
       "      <td>-2.576</td>\n",
       "      <td>-0.270</td>\n",
       "      <td>0.816</td>\n",
       "      <td>1.572</td>\n",
       "      <td>-3.936</td>\n",
       "      <td>0.159837</td>\n",
       "      <td>3.514</td>\n",
       "      <td>Up</td>\n",
       "    </tr>\n",
       "    <tr>\n",
       "      <th>3</th>\n",
       "      <td>1990</td>\n",
       "      <td>3.514</td>\n",
       "      <td>-2.576</td>\n",
       "      <td>-0.270</td>\n",
       "      <td>0.816</td>\n",
       "      <td>1.572</td>\n",
       "      <td>0.161630</td>\n",
       "      <td>0.712</td>\n",
       "      <td>Up</td>\n",
       "    </tr>\n",
       "    <tr>\n",
       "      <th>4</th>\n",
       "      <td>1990</td>\n",
       "      <td>0.712</td>\n",
       "      <td>3.514</td>\n",
       "      <td>-2.576</td>\n",
       "      <td>-0.270</td>\n",
       "      <td>0.816</td>\n",
       "      <td>0.153728</td>\n",
       "      <td>1.178</td>\n",
       "      <td>Up</td>\n",
       "    </tr>\n",
       "    <tr>\n",
       "      <th>...</th>\n",
       "      <td>...</td>\n",
       "      <td>...</td>\n",
       "      <td>...</td>\n",
       "      <td>...</td>\n",
       "      <td>...</td>\n",
       "      <td>...</td>\n",
       "      <td>...</td>\n",
       "      <td>...</td>\n",
       "      <td>...</td>\n",
       "    </tr>\n",
       "    <tr>\n",
       "      <th>1084</th>\n",
       "      <td>2010</td>\n",
       "      <td>-0.861</td>\n",
       "      <td>0.043</td>\n",
       "      <td>-2.173</td>\n",
       "      <td>3.599</td>\n",
       "      <td>0.015</td>\n",
       "      <td>3.205160</td>\n",
       "      <td>2.969</td>\n",
       "      <td>Up</td>\n",
       "    </tr>\n",
       "    <tr>\n",
       "      <th>1085</th>\n",
       "      <td>2010</td>\n",
       "      <td>2.969</td>\n",
       "      <td>-0.861</td>\n",
       "      <td>0.043</td>\n",
       "      <td>-2.173</td>\n",
       "      <td>3.599</td>\n",
       "      <td>4.242568</td>\n",
       "      <td>1.281</td>\n",
       "      <td>Up</td>\n",
       "    </tr>\n",
       "    <tr>\n",
       "      <th>1086</th>\n",
       "      <td>2010</td>\n",
       "      <td>1.281</td>\n",
       "      <td>2.969</td>\n",
       "      <td>-0.861</td>\n",
       "      <td>0.043</td>\n",
       "      <td>-2.173</td>\n",
       "      <td>4.835082</td>\n",
       "      <td>0.283</td>\n",
       "      <td>Up</td>\n",
       "    </tr>\n",
       "    <tr>\n",
       "      <th>1087</th>\n",
       "      <td>2010</td>\n",
       "      <td>0.283</td>\n",
       "      <td>1.281</td>\n",
       "      <td>2.969</td>\n",
       "      <td>-0.861</td>\n",
       "      <td>0.043</td>\n",
       "      <td>4.454044</td>\n",
       "      <td>1.034</td>\n",
       "      <td>Up</td>\n",
       "    </tr>\n",
       "    <tr>\n",
       "      <th>1088</th>\n",
       "      <td>2010</td>\n",
       "      <td>1.034</td>\n",
       "      <td>0.283</td>\n",
       "      <td>1.281</td>\n",
       "      <td>2.969</td>\n",
       "      <td>-0.861</td>\n",
       "      <td>2.707105</td>\n",
       "      <td>0.069</td>\n",
       "      <td>Up</td>\n",
       "    </tr>\n",
       "  </tbody>\n",
       "</table>\n",
       "<p>1089 rows × 9 columns</p>\n",
       "</div>"
      ],
      "text/plain": [
       "      Year   Lag1   Lag2   Lag3   Lag4   Lag5    Volume  Today Direction\n",
       "0     1990  0.816  1.572 -3.936 -0.229 -3.484  0.154976 -0.270      Down\n",
       "1     1990 -0.270  0.816  1.572 -3.936 -0.229  0.148574 -2.576      Down\n",
       "2     1990 -2.576 -0.270  0.816  1.572 -3.936  0.159837  3.514        Up\n",
       "3     1990  3.514 -2.576 -0.270  0.816  1.572  0.161630  0.712        Up\n",
       "4     1990  0.712  3.514 -2.576 -0.270  0.816  0.153728  1.178        Up\n",
       "...    ...    ...    ...    ...    ...    ...       ...    ...       ...\n",
       "1084  2010 -0.861  0.043 -2.173  3.599  0.015  3.205160  2.969        Up\n",
       "1085  2010  2.969 -0.861  0.043 -2.173  3.599  4.242568  1.281        Up\n",
       "1086  2010  1.281  2.969 -0.861  0.043 -2.173  4.835082  0.283        Up\n",
       "1087  2010  0.283  1.281  2.969 -0.861  0.043  4.454044  1.034        Up\n",
       "1088  2010  1.034  0.283  1.281  2.969 -0.861  2.707105  0.069        Up\n",
       "\n",
       "[1089 rows x 9 columns]"
      ]
     },
     "execution_count": 4,
     "metadata": {},
     "output_type": "execute_result"
    }
   ],
   "source": [
    "Weekly"
   ]
  },
  {
   "cell_type": "markdown",
   "id": "b3a55f13",
   "metadata": {},
   "source": [
    "# 13 (a)"
   ]
  },
  {
   "cell_type": "code",
   "execution_count": 5,
   "id": "f364876e",
   "metadata": {},
   "outputs": [
    {
     "data": {
      "text/html": [
       "<div>\n",
       "<style scoped>\n",
       "    .dataframe tbody tr th:only-of-type {\n",
       "        vertical-align: middle;\n",
       "    }\n",
       "\n",
       "    .dataframe tbody tr th {\n",
       "        vertical-align: top;\n",
       "    }\n",
       "\n",
       "    .dataframe thead th {\n",
       "        text-align: right;\n",
       "    }\n",
       "</style>\n",
       "<table border=\"1\" class=\"dataframe\">\n",
       "  <thead>\n",
       "    <tr style=\"text-align: right;\">\n",
       "      <th></th>\n",
       "      <th>Year</th>\n",
       "      <th>Lag1</th>\n",
       "      <th>Lag2</th>\n",
       "      <th>Lag3</th>\n",
       "      <th>Lag4</th>\n",
       "      <th>Lag5</th>\n",
       "      <th>Volume</th>\n",
       "      <th>Today</th>\n",
       "    </tr>\n",
       "  </thead>\n",
       "  <tbody>\n",
       "    <tr>\n",
       "      <th>Year</th>\n",
       "      <td>1.000000</td>\n",
       "      <td>-0.032289</td>\n",
       "      <td>-0.033390</td>\n",
       "      <td>-0.030006</td>\n",
       "      <td>-0.031128</td>\n",
       "      <td>-0.030519</td>\n",
       "      <td>0.841942</td>\n",
       "      <td>-0.032460</td>\n",
       "    </tr>\n",
       "    <tr>\n",
       "      <th>Lag1</th>\n",
       "      <td>-0.032289</td>\n",
       "      <td>1.000000</td>\n",
       "      <td>-0.074853</td>\n",
       "      <td>0.058636</td>\n",
       "      <td>-0.071274</td>\n",
       "      <td>-0.008183</td>\n",
       "      <td>-0.064951</td>\n",
       "      <td>-0.075032</td>\n",
       "    </tr>\n",
       "    <tr>\n",
       "      <th>Lag2</th>\n",
       "      <td>-0.033390</td>\n",
       "      <td>-0.074853</td>\n",
       "      <td>1.000000</td>\n",
       "      <td>-0.075721</td>\n",
       "      <td>0.058382</td>\n",
       "      <td>-0.072499</td>\n",
       "      <td>-0.085513</td>\n",
       "      <td>0.059167</td>\n",
       "    </tr>\n",
       "    <tr>\n",
       "      <th>Lag3</th>\n",
       "      <td>-0.030006</td>\n",
       "      <td>0.058636</td>\n",
       "      <td>-0.075721</td>\n",
       "      <td>1.000000</td>\n",
       "      <td>-0.075396</td>\n",
       "      <td>0.060657</td>\n",
       "      <td>-0.069288</td>\n",
       "      <td>-0.071244</td>\n",
       "    </tr>\n",
       "    <tr>\n",
       "      <th>Lag4</th>\n",
       "      <td>-0.031128</td>\n",
       "      <td>-0.071274</td>\n",
       "      <td>0.058382</td>\n",
       "      <td>-0.075396</td>\n",
       "      <td>1.000000</td>\n",
       "      <td>-0.075675</td>\n",
       "      <td>-0.061075</td>\n",
       "      <td>-0.007826</td>\n",
       "    </tr>\n",
       "    <tr>\n",
       "      <th>Lag5</th>\n",
       "      <td>-0.030519</td>\n",
       "      <td>-0.008183</td>\n",
       "      <td>-0.072499</td>\n",
       "      <td>0.060657</td>\n",
       "      <td>-0.075675</td>\n",
       "      <td>1.000000</td>\n",
       "      <td>-0.058517</td>\n",
       "      <td>0.011013</td>\n",
       "    </tr>\n",
       "    <tr>\n",
       "      <th>Volume</th>\n",
       "      <td>0.841942</td>\n",
       "      <td>-0.064951</td>\n",
       "      <td>-0.085513</td>\n",
       "      <td>-0.069288</td>\n",
       "      <td>-0.061075</td>\n",
       "      <td>-0.058517</td>\n",
       "      <td>1.000000</td>\n",
       "      <td>-0.033078</td>\n",
       "    </tr>\n",
       "    <tr>\n",
       "      <th>Today</th>\n",
       "      <td>-0.032460</td>\n",
       "      <td>-0.075032</td>\n",
       "      <td>0.059167</td>\n",
       "      <td>-0.071244</td>\n",
       "      <td>-0.007826</td>\n",
       "      <td>0.011013</td>\n",
       "      <td>-0.033078</td>\n",
       "      <td>1.000000</td>\n",
       "    </tr>\n",
       "  </tbody>\n",
       "</table>\n",
       "</div>"
      ],
      "text/plain": [
       "            Year      Lag1      Lag2      Lag3      Lag4      Lag5    Volume  \\\n",
       "Year    1.000000 -0.032289 -0.033390 -0.030006 -0.031128 -0.030519  0.841942   \n",
       "Lag1   -0.032289  1.000000 -0.074853  0.058636 -0.071274 -0.008183 -0.064951   \n",
       "Lag2   -0.033390 -0.074853  1.000000 -0.075721  0.058382 -0.072499 -0.085513   \n",
       "Lag3   -0.030006  0.058636 -0.075721  1.000000 -0.075396  0.060657 -0.069288   \n",
       "Lag4   -0.031128 -0.071274  0.058382 -0.075396  1.000000 -0.075675 -0.061075   \n",
       "Lag5   -0.030519 -0.008183 -0.072499  0.060657 -0.075675  1.000000 -0.058517   \n",
       "Volume  0.841942 -0.064951 -0.085513 -0.069288 -0.061075 -0.058517  1.000000   \n",
       "Today  -0.032460 -0.075032  0.059167 -0.071244 -0.007826  0.011013 -0.033078   \n",
       "\n",
       "           Today  \n",
       "Year   -0.032460  \n",
       "Lag1   -0.075032  \n",
       "Lag2    0.059167  \n",
       "Lag3   -0.071244  \n",
       "Lag4   -0.007826  \n",
       "Lag5    0.011013  \n",
       "Volume -0.033078  \n",
       "Today   1.000000  "
      ]
     },
     "execution_count": 5,
     "metadata": {},
     "output_type": "execute_result"
    }
   ],
   "source": [
    "#correlation plot to observe correlation among the features\n",
    "Weekly.corr()"
   ]
  },
  {
   "cell_type": "code",
   "execution_count": 6,
   "id": "1adaf2a1",
   "metadata": {},
   "outputs": [
    {
     "data": {
      "image/png": "[encoded data removed]",
      "text/plain": [
       "<Figure size 432x288 with 1 Axes>"
      ]
     },
     "metadata": {
      "needs_background": "light"
     },
     "output_type": "display_data"
    }
   ],
   "source": [
    "Weekly.plot(y='Volume',x='Year');"
   ]
  },
  {
   "cell_type": "code",
   "execution_count": 7,
   "id": "f9455885",
   "metadata": {},
   "outputs": [
    {
     "data": {
      "text/plain": [
       "<AxesSubplot:>"
      ]
     },
     "execution_count": 7,
     "metadata": {},
     "output_type": "execute_result"
    },
    {
     "data": {
      "image/png": "[encoded data removed]",
      "text/plain": [
       "<Figure size 432x288 with 1 Axes>"
      ]
     },
     "metadata": {
      "needs_background": "light"
     },
     "output_type": "display_data"
    }
   ],
   "source": [
    "Weekly.plot(y='Volume')"
   ]
  },
  {
   "cell_type": "markdown",
   "id": "f87ace2c",
   "metadata": {},
   "source": [
    "# 13 (b)"
   ]
  },
  {
   "cell_type": "code",
   "execution_count": 8,
   "id": "44f70168",
   "metadata": {},
   "outputs": [
    {
     "data": {
      "text/html": [
       "<div>\n",
       "<style scoped>\n",
       "    .dataframe tbody tr th:only-of-type {\n",
       "        vertical-align: middle;\n",
       "    }\n",
       "\n",
       "    .dataframe tbody tr th {\n",
       "        vertical-align: top;\n",
       "    }\n",
       "\n",
       "    .dataframe thead th {\n",
       "        text-align: right;\n",
       "    }\n",
       "</style>\n",
       "<table border=\"1\" class=\"dataframe\">\n",
       "  <thead>\n",
       "    <tr style=\"text-align: right;\">\n",
       "      <th></th>\n",
       "      <th>coef</th>\n",
       "      <th>std err</th>\n",
       "      <th>z</th>\n",
       "      <th>P&gt;|z|</th>\n",
       "    </tr>\n",
       "  </thead>\n",
       "  <tbody>\n",
       "    <tr>\n",
       "      <th>intercept</th>\n",
       "      <td>0.2669</td>\n",
       "      <td>0.086</td>\n",
       "      <td>3.106</td>\n",
       "      <td>0.002</td>\n",
       "    </tr>\n",
       "    <tr>\n",
       "      <th>Lag1</th>\n",
       "      <td>-0.0413</td>\n",
       "      <td>0.026</td>\n",
       "      <td>-1.563</td>\n",
       "      <td>0.118</td>\n",
       "    </tr>\n",
       "    <tr>\n",
       "      <th>Lag2</th>\n",
       "      <td>0.0584</td>\n",
       "      <td>0.027</td>\n",
       "      <td>2.175</td>\n",
       "      <td>0.030</td>\n",
       "    </tr>\n",
       "    <tr>\n",
       "      <th>Lag3</th>\n",
       "      <td>-0.0161</td>\n",
       "      <td>0.027</td>\n",
       "      <td>-0.602</td>\n",
       "      <td>0.547</td>\n",
       "    </tr>\n",
       "    <tr>\n",
       "      <th>Lag4</th>\n",
       "      <td>-0.0278</td>\n",
       "      <td>0.026</td>\n",
       "      <td>-1.050</td>\n",
       "      <td>0.294</td>\n",
       "    </tr>\n",
       "    <tr>\n",
       "      <th>Lag5</th>\n",
       "      <td>-0.0145</td>\n",
       "      <td>0.026</td>\n",
       "      <td>-0.549</td>\n",
       "      <td>0.583</td>\n",
       "    </tr>\n",
       "    <tr>\n",
       "      <th>Volume</th>\n",
       "      <td>-0.0227</td>\n",
       "      <td>0.037</td>\n",
       "      <td>-0.616</td>\n",
       "      <td>0.538</td>\n",
       "    </tr>\n",
       "  </tbody>\n",
       "</table>\n",
       "</div>"
      ],
      "text/plain": [
       "             coef  std err      z  P>|z|\n",
       "intercept  0.2669    0.086  3.106  0.002\n",
       "Lag1      -0.0413    0.026 -1.563  0.118\n",
       "Lag2       0.0584    0.027  2.175  0.030\n",
       "Lag3      -0.0161    0.027 -0.602  0.547\n",
       "Lag4      -0.0278    0.026 -1.050  0.294\n",
       "Lag5      -0.0145    0.026 -0.549  0.583\n",
       "Volume    -0.0227    0.037 -0.616  0.538"
      ]
     },
     "execution_count": 8,
     "metadata": {},
     "output_type": "execute_result"
    }
   ],
   "source": [
    "predictors = Weekly.columns.drop(['Today', 'Direction', 'Year'])\n",
    "design = MS(predictors)\n",
    "X = design.fit_transform(Weekly)\n",
    "y = Weekly.Direction == 'Up'\n",
    "glm = sm.GLM(y,\n",
    "             X,\n",
    "             family=sm.families.Binomial())\n",
    "results = glm.fit()\n",
    "summarize(results)"
   ]
  },
  {
   "cell_type": "markdown",
   "id": "9bed2dec",
   "metadata": {},
   "source": [
    "# 13 (c)"
   ]
  },
  {
   "cell_type": "code",
   "execution_count": 9,
   "id": "02e939a6",
   "metadata": {},
   "outputs": [
    {
     "data": {
      "text/plain": [
       "array(['Up', 'Up', 'Up', ..., 'Up', 'Up', 'Up'], dtype='<U4')"
      ]
     },
     "execution_count": 9,
     "metadata": {},
     "output_type": "execute_result"
    }
   ],
   "source": [
    "#obtaining probability of market going up\n",
    "probs = results.predict()\n",
    "\n",
    "#creating the array with labels \n",
    "labels = np.array(['Down']*1089)\n",
    "labels[probs>0.5] = \"Up\"\n",
    "\n",
    "labels"
   ]
  },
  {
   "cell_type": "code",
   "execution_count": 10,
   "id": "ed569e17",
   "metadata": {},
   "outputs": [
    {
     "data": {
      "text/html": [
       "<div>\n",
       "<style scoped>\n",
       "    .dataframe tbody tr th:only-of-type {\n",
       "        vertical-align: middle;\n",
       "    }\n",
       "\n",
       "    .dataframe tbody tr th {\n",
       "        vertical-align: top;\n",
       "    }\n",
       "\n",
       "    .dataframe thead th {\n",
       "        text-align: right;\n",
       "    }\n",
       "</style>\n",
       "<table border=\"1\" class=\"dataframe\">\n",
       "  <thead>\n",
       "    <tr style=\"text-align: right;\">\n",
       "      <th>Truth</th>\n",
       "      <th>Down</th>\n",
       "      <th>Up</th>\n",
       "    </tr>\n",
       "    <tr>\n",
       "      <th>Predicted</th>\n",
       "      <th></th>\n",
       "      <th></th>\n",
       "    </tr>\n",
       "  </thead>\n",
       "  <tbody>\n",
       "    <tr>\n",
       "      <th>Down</th>\n",
       "      <td>54</td>\n",
       "      <td>48</td>\n",
       "    </tr>\n",
       "    <tr>\n",
       "      <th>Up</th>\n",
       "      <td>430</td>\n",
       "      <td>557</td>\n",
       "    </tr>\n",
       "  </tbody>\n",
       "</table>\n",
       "</div>"
      ],
      "text/plain": [
       "Truth      Down   Up\n",
       "Predicted           \n",
       "Down         54   48\n",
       "Up          430  557"
      ]
     },
     "execution_count": 10,
     "metadata": {},
     "output_type": "execute_result"
    }
   ],
   "source": [
    "confusion_table(labels, Weekly.Direction)"
   ]
  },
  {
   "cell_type": "code",
   "execution_count": 11,
   "id": "f7607884",
   "metadata": {},
   "outputs": [
    {
     "name": "stdout",
     "output_type": "stream",
     "text": [
      "overall fraction of correct predictions= 0.5610651974288338\n"
     ]
    }
   ],
   "source": [
    "print(\"overall fraction of correct predictions=\",(54+557)/(1089))"
   ]
  },
  {
   "cell_type": "code",
   "execution_count": 12,
   "id": "c1ceaaf0",
   "metadata": {},
   "outputs": [
    {
     "name": "stdout",
     "output_type": "stream",
     "text": [
      "error rate is 43.89348025711662\n"
     ]
    }
   ],
   "source": [
    "print('error rate is',100-100*np.mean(labels == Weekly.Direction))"
   ]
  },
  {
   "cell_type": "code",
   "execution_count": 13,
   "id": "25537ce2",
   "metadata": {},
   "outputs": [
    {
     "name": "stdout",
     "output_type": "stream",
     "text": [
      "overall fraction of correct predictions for the label \"up\"= 0.9206611570247933\n"
     ]
    }
   ],
   "source": [
    "print('overall fraction of correct predictions for the label \"up\"=',(557)/(557+48))"
   ]
  },
  {
   "cell_type": "code",
   "execution_count": 14,
   "id": "22a43ad6",
   "metadata": {},
   "outputs": [
    {
     "name": "stdout",
     "output_type": "stream",
     "text": [
      "overall fraction of correct predictions for the label \"down\"= 0.1115702479338843\n"
     ]
    }
   ],
   "source": [
    "print('overall fraction of correct predictions for the label \"down\"=',(54)/(54+430))"
   ]
  },
  {
   "cell_type": "markdown",
   "id": "28637d67",
   "metadata": {},
   "source": [
    "# 13 (d)"
   ]
  },
  {
   "cell_type": "code",
   "execution_count": 15,
   "id": "2fc507cb",
   "metadata": {},
   "outputs": [],
   "source": [
    "#using lag2 as predictor\n",
    "allvars = Weekly.columns.drop(['Year', 'Lag1', 'Lag3','Lag4','Lag5','Volume','Today','Direction'])\n",
    "design = MS(allvars)\n",
    "X = design.fit_transform(Weekly)\n",
    "y = Weekly.Direction == 'Up'"
   ]
  },
  {
   "cell_type": "code",
   "execution_count": 16,
   "id": "b76929a5",
   "metadata": {},
   "outputs": [
    {
     "data": {
      "text/html": [
       "<div>\n",
       "<style scoped>\n",
       "    .dataframe tbody tr th:only-of-type {\n",
       "        vertical-align: middle;\n",
       "    }\n",
       "\n",
       "    .dataframe tbody tr th {\n",
       "        vertical-align: top;\n",
       "    }\n",
       "\n",
       "    .dataframe thead th {\n",
       "        text-align: right;\n",
       "    }\n",
       "</style>\n",
       "<table border=\"1\" class=\"dataframe\">\n",
       "  <thead>\n",
       "    <tr style=\"text-align: right;\">\n",
       "      <th></th>\n",
       "      <th>Year</th>\n",
       "      <th>Lag1</th>\n",
       "      <th>Lag2</th>\n",
       "      <th>Lag3</th>\n",
       "      <th>Lag4</th>\n",
       "      <th>Lag5</th>\n",
       "      <th>Volume</th>\n",
       "      <th>Today</th>\n",
       "      <th>Direction</th>\n",
       "    </tr>\n",
       "  </thead>\n",
       "  <tbody>\n",
       "    <tr>\n",
       "      <th>980</th>\n",
       "      <td>2008</td>\n",
       "      <td>12.026</td>\n",
       "      <td>-8.389</td>\n",
       "      <td>-6.198</td>\n",
       "      <td>-3.898</td>\n",
       "      <td>10.491</td>\n",
       "      <td>5.841565</td>\n",
       "      <td>-2.251</td>\n",
       "      <td>Down</td>\n",
       "    </tr>\n",
       "    <tr>\n",
       "      <th>981</th>\n",
       "      <td>2008</td>\n",
       "      <td>-2.251</td>\n",
       "      <td>12.026</td>\n",
       "      <td>-8.389</td>\n",
       "      <td>-6.198</td>\n",
       "      <td>-3.898</td>\n",
       "      <td>6.093950</td>\n",
       "      <td>0.418</td>\n",
       "      <td>Up</td>\n",
       "    </tr>\n",
       "    <tr>\n",
       "      <th>982</th>\n",
       "      <td>2008</td>\n",
       "      <td>0.418</td>\n",
       "      <td>-2.251</td>\n",
       "      <td>12.026</td>\n",
       "      <td>-8.389</td>\n",
       "      <td>-6.198</td>\n",
       "      <td>5.932454</td>\n",
       "      <td>0.926</td>\n",
       "      <td>Up</td>\n",
       "    </tr>\n",
       "    <tr>\n",
       "      <th>983</th>\n",
       "      <td>2008</td>\n",
       "      <td>0.926</td>\n",
       "      <td>0.418</td>\n",
       "      <td>-2.251</td>\n",
       "      <td>12.026</td>\n",
       "      <td>-8.389</td>\n",
       "      <td>5.855972</td>\n",
       "      <td>-1.698</td>\n",
       "      <td>Down</td>\n",
       "    </tr>\n",
       "    <tr>\n",
       "      <th>984</th>\n",
       "      <td>2008</td>\n",
       "      <td>-1.698</td>\n",
       "      <td>0.926</td>\n",
       "      <td>0.418</td>\n",
       "      <td>-2.251</td>\n",
       "      <td>12.026</td>\n",
       "      <td>3.087105</td>\n",
       "      <td>6.760</td>\n",
       "      <td>Up</td>\n",
       "    </tr>\n",
       "  </tbody>\n",
       "</table>\n",
       "</div>"
      ],
      "text/plain": [
       "     Year    Lag1    Lag2    Lag3    Lag4    Lag5    Volume  Today Direction\n",
       "980  2008  12.026  -8.389  -6.198  -3.898  10.491  5.841565 -2.251      Down\n",
       "981  2008  -2.251  12.026  -8.389  -6.198  -3.898  6.093950  0.418        Up\n",
       "982  2008   0.418  -2.251  12.026  -8.389  -6.198  5.932454  0.926        Up\n",
       "983  2008   0.926   0.418  -2.251  12.026  -8.389  5.855972 -1.698      Down\n",
       "984  2008  -1.698   0.926   0.418  -2.251  12.026  3.087105  6.760        Up"
      ]
     },
     "execution_count": 16,
     "metadata": {},
     "output_type": "execute_result"
    }
   ],
   "source": [
    "train_data=Weekly.loc[Weekly['Year'] <2009]\n",
    "train_data.tail()"
   ]
  },
  {
   "cell_type": "code",
   "execution_count": 17,
   "id": "055d747f",
   "metadata": {},
   "outputs": [
    {
     "data": {
      "text/html": [
       "<div>\n",
       "<style scoped>\n",
       "    .dataframe tbody tr th:only-of-type {\n",
       "        vertical-align: middle;\n",
       "    }\n",
       "\n",
       "    .dataframe tbody tr th {\n",
       "        vertical-align: top;\n",
       "    }\n",
       "\n",
       "    .dataframe thead th {\n",
       "        text-align: right;\n",
       "    }\n",
       "</style>\n",
       "<table border=\"1\" class=\"dataframe\">\n",
       "  <thead>\n",
       "    <tr style=\"text-align: right;\">\n",
       "      <th></th>\n",
       "      <th>Year</th>\n",
       "      <th>Lag1</th>\n",
       "      <th>Lag2</th>\n",
       "      <th>Lag3</th>\n",
       "      <th>Lag4</th>\n",
       "      <th>Lag5</th>\n",
       "      <th>Volume</th>\n",
       "      <th>Today</th>\n",
       "      <th>Direction</th>\n",
       "    </tr>\n",
       "  </thead>\n",
       "  <tbody>\n",
       "    <tr>\n",
       "      <th>985</th>\n",
       "      <td>2009</td>\n",
       "      <td>6.760</td>\n",
       "      <td>-1.698</td>\n",
       "      <td>0.926</td>\n",
       "      <td>0.418</td>\n",
       "      <td>-2.251</td>\n",
       "      <td>3.793110</td>\n",
       "      <td>-4.448</td>\n",
       "      <td>Down</td>\n",
       "    </tr>\n",
       "    <tr>\n",
       "      <th>986</th>\n",
       "      <td>2009</td>\n",
       "      <td>-4.448</td>\n",
       "      <td>6.760</td>\n",
       "      <td>-1.698</td>\n",
       "      <td>0.926</td>\n",
       "      <td>0.418</td>\n",
       "      <td>5.043904</td>\n",
       "      <td>-4.518</td>\n",
       "      <td>Down</td>\n",
       "    </tr>\n",
       "    <tr>\n",
       "      <th>987</th>\n",
       "      <td>2009</td>\n",
       "      <td>-4.518</td>\n",
       "      <td>-4.448</td>\n",
       "      <td>6.760</td>\n",
       "      <td>-1.698</td>\n",
       "      <td>0.926</td>\n",
       "      <td>5.948758</td>\n",
       "      <td>-2.137</td>\n",
       "      <td>Down</td>\n",
       "    </tr>\n",
       "    <tr>\n",
       "      <th>988</th>\n",
       "      <td>2009</td>\n",
       "      <td>-2.137</td>\n",
       "      <td>-4.518</td>\n",
       "      <td>-4.448</td>\n",
       "      <td>6.760</td>\n",
       "      <td>-1.698</td>\n",
       "      <td>6.129763</td>\n",
       "      <td>-0.730</td>\n",
       "      <td>Down</td>\n",
       "    </tr>\n",
       "    <tr>\n",
       "      <th>989</th>\n",
       "      <td>2009</td>\n",
       "      <td>-0.730</td>\n",
       "      <td>-2.137</td>\n",
       "      <td>-4.518</td>\n",
       "      <td>-4.448</td>\n",
       "      <td>6.760</td>\n",
       "      <td>5.602004</td>\n",
       "      <td>5.173</td>\n",
       "      <td>Up</td>\n",
       "    </tr>\n",
       "  </tbody>\n",
       "</table>\n",
       "</div>"
      ],
      "text/plain": [
       "     Year   Lag1   Lag2   Lag3   Lag4   Lag5    Volume  Today Direction\n",
       "985  2009  6.760 -1.698  0.926  0.418 -2.251  3.793110 -4.448      Down\n",
       "986  2009 -4.448  6.760 -1.698  0.926  0.418  5.043904 -4.518      Down\n",
       "987  2009 -4.518 -4.448  6.760 -1.698  0.926  5.948758 -2.137      Down\n",
       "988  2009 -2.137 -4.518 -4.448  6.760 -1.698  6.129763 -0.730      Down\n",
       "989  2009 -0.730 -2.137 -4.518 -4.448  6.760  5.602004  5.173        Up"
      ]
     },
     "execution_count": 17,
     "metadata": {},
     "output_type": "execute_result"
    }
   ],
   "source": [
    "test_data=Weekly.loc[Weekly['Year'] >2008]\n",
    "test_data.head()"
   ]
  },
  {
   "cell_type": "code",
   "execution_count": 18,
   "id": "235324a7",
   "metadata": {},
   "outputs": [
    {
     "data": {
      "text/plain": [
       "(104, 9)"
      ]
     },
     "execution_count": 18,
     "metadata": {},
     "output_type": "execute_result"
    }
   ],
   "source": [
    "train = (Weekly.Year < 2009)\n",
    "Weekly_train = Weekly.loc[train]\n",
    "Weekly_test = Weekly.loc[~train]\n",
    "Weekly_test.shape"
   ]
  },
  {
   "cell_type": "code",
   "execution_count": 19,
   "id": "ac62b334",
   "metadata": {},
   "outputs": [],
   "source": [
    "X_train, X_test = X.loc[train], X.loc[~train]\n",
    "y_train, y_test = y.loc[train], y.loc[~train]"
   ]
  },
  {
   "cell_type": "code",
   "execution_count": 20,
   "id": "78354466",
   "metadata": {},
   "outputs": [],
   "source": [
    "D = Weekly.Direction\n",
    "L_train, L_test = D.loc[train], D.loc[~train]"
   ]
  },
  {
   "cell_type": "code",
   "execution_count": 21,
   "id": "109d992d",
   "metadata": {},
   "outputs": [],
   "source": [
    "model = MS(['Lag2']).fit(Weekly)\n",
    "X = model.transform(Weekly)\n",
    "X_train, X_test = X.loc[train], X.loc[~train]\n",
    "glm_train = sm.GLM(y_train,\n",
    "                  X_train,\n",
    "                  family=sm.families.Binomial())\n",
    "results = glm_train.fit()"
   ]
  },
  {
   "cell_type": "code",
   "execution_count": 22,
   "id": "e80de928",
   "metadata": {},
   "outputs": [
    {
     "data": {
      "text/html": [
       "<div>\n",
       "<style scoped>\n",
       "    .dataframe tbody tr th:only-of-type {\n",
       "        vertical-align: middle;\n",
       "    }\n",
       "\n",
       "    .dataframe tbody tr th {\n",
       "        vertical-align: top;\n",
       "    }\n",
       "\n",
       "    .dataframe thead th {\n",
       "        text-align: right;\n",
       "    }\n",
       "</style>\n",
       "<table border=\"1\" class=\"dataframe\">\n",
       "  <thead>\n",
       "    <tr style=\"text-align: right;\">\n",
       "      <th>Truth</th>\n",
       "      <th>Down</th>\n",
       "      <th>Up</th>\n",
       "    </tr>\n",
       "    <tr>\n",
       "      <th>Predicted</th>\n",
       "      <th></th>\n",
       "      <th></th>\n",
       "    </tr>\n",
       "  </thead>\n",
       "  <tbody>\n",
       "    <tr>\n",
       "      <th>Down</th>\n",
       "      <td>9</td>\n",
       "      <td>5</td>\n",
       "    </tr>\n",
       "    <tr>\n",
       "      <th>Up</th>\n",
       "      <td>34</td>\n",
       "      <td>56</td>\n",
       "    </tr>\n",
       "  </tbody>\n",
       "</table>\n",
       "</div>"
      ],
      "text/plain": [
       "Truth      Down  Up\n",
       "Predicted          \n",
       "Down          9   5\n",
       "Up           34  56"
      ]
     },
     "execution_count": 22,
     "metadata": {},
     "output_type": "execute_result"
    }
   ],
   "source": [
    "#confusion matrix for test data\n",
    "probs = results.predict(exog=X_test)\n",
    "labels = np.array(['Down']*104)\n",
    "labels[probs >0.5] = 'Up'\n",
    "confusion_table(labels, L_test)"
   ]
  },
  {
   "cell_type": "code",
   "execution_count": 23,
   "id": "1decccca",
   "metadata": {},
   "outputs": [
    {
     "name": "stdout",
     "output_type": "stream",
     "text": [
      "overall fraction of correct predictions for the held out data=  0.625\n"
     ]
    }
   ],
   "source": [
    "print('overall fraction of correct predictions for the held out data= ',(9+56)/(14+34+56))"
   ]
  },
  {
   "cell_type": "code",
   "execution_count": 24,
   "id": "fd4dd81e",
   "metadata": {},
   "outputs": [
    {
     "name": "stdout",
     "output_type": "stream",
     "text": [
      "Classification Report:               precision    recall  f1-score   support\n",
      "\n",
      "        Down       0.64      0.21      0.32        43\n",
      "          Up       0.62      0.92      0.74        61\n",
      "\n",
      "    accuracy                           0.62       104\n",
      "   macro avg       0.63      0.56      0.53       104\n",
      "weighted avg       0.63      0.62      0.57       104\n",
      "\n"
     ]
    }
   ],
   "source": [
    "from sklearn import metrics\n",
    "result = metrics.classification_report(L_test, labels)\n",
    "print(\"Classification Report:\",result)"
   ]
  },
  {
   "cell_type": "markdown",
   "id": "06db64f3",
   "metadata": {},
   "source": [
    "# (e)"
   ]
  },
  {
   "cell_type": "code",
   "execution_count": 25,
   "id": "bdc697e2",
   "metadata": {},
   "outputs": [],
   "source": [
    "#LDA model\n",
    "lda = LDA(store_covariance=True)"
   ]
  },
  {
   "cell_type": "code",
   "execution_count": 26,
   "id": "ef6c58b5",
   "metadata": {},
   "outputs": [
    {
     "data": {
      "text/html": [
       "<style>#sk-container-id-1 {color: black;}#sk-container-id-1 pre{padding: 0;}#sk-container-id-1 div.sk-toggleable {background-color: white;}#sk-container-id-1 label.sk-toggleable__label {cursor: pointer;display: block;width: 100%;margin-bottom: 0;padding: 0.3em;box-sizing: border-box;text-align: center;}#sk-container-id-1 label.sk-toggleable__label-arrow:before {content: \"▸\";float: left;margin-right: 0.25em;color: #696969;}#sk-container-id-1 label.sk-toggleable__label-arrow:hover:before {color: black;}#sk-container-id-1 div.sk-estimator:hover label.sk-toggleable__label-arrow:before {color: black;}#sk-container-id-1 div.sk-toggleable__content {max-height: 0;max-width: 0;overflow: hidden;text-align: left;background-color: #f0f8ff;}#sk-container-id-1 div.sk-toggleable__content pre {margin: 0.2em;color: black;border-radius: 0.25em;background-color: #f0f8ff;}#sk-container-id-1 input.sk-toggleable__control:checked~div.sk-toggleable__content {max-height: 200px;max-width: 100%;overflow: auto;}#sk-container-id-1 input.sk-toggleable__control:checked~label.sk-toggleable__label-arrow:before {content: \"▾\";}#sk-container-id-1 div.sk-estimator input.sk-toggleable__control:checked~label.sk-toggleable__label {background-color: #d4ebff;}#sk-container-id-1 div.sk-label input.sk-toggleable__control:checked~label.sk-toggleable__label {background-color: #d4ebff;}#sk-container-id-1 input.sk-hidden--visually {border: 0;clip: rect(1px 1px 1px 1px);clip: rect(1px, 1px, 1px, 1px);height: 1px;margin: -1px;overflow: hidden;padding: 0;position: absolute;width: 1px;}#sk-container-id-1 div.sk-estimator {font-family: monospace;background-color: #f0f8ff;border: 1px dotted black;border-radius: 0.25em;box-sizing: border-box;margin-bottom: 0.5em;}#sk-container-id-1 div.sk-estimator:hover {background-color: #d4ebff;}#sk-container-id-1 div.sk-parallel-item::after {content: \"\";width: 100%;border-bottom: 1px solid gray;flex-grow: 1;}#sk-container-id-1 div.sk-label:hover label.sk-toggleable__label {background-color: #d4ebff;}#sk-container-id-1 div.sk-serial::before {content: \"\";position: absolute;border-left: 1px solid gray;box-sizing: border-box;top: 0;bottom: 0;left: 50%;z-index: 0;}#sk-container-id-1 div.sk-serial {display: flex;flex-direction: column;align-items: center;background-color: white;padding-right: 0.2em;padding-left: 0.2em;position: relative;}#sk-container-id-1 div.sk-item {position: relative;z-index: 1;}#sk-container-id-1 div.sk-parallel {display: flex;align-items: stretch;justify-content: center;background-color: white;position: relative;}#sk-container-id-1 div.sk-item::before, #sk-container-id-1 div.sk-parallel-item::before {content: \"\";position: absolute;border-left: 1px solid gray;box-sizing: border-box;top: 0;bottom: 0;left: 50%;z-index: -1;}#sk-container-id-1 div.sk-parallel-item {display: flex;flex-direction: column;z-index: 1;position: relative;background-color: white;}#sk-container-id-1 div.sk-parallel-item:first-child::after {align-self: flex-end;width: 50%;}#sk-container-id-1 div.sk-parallel-item:last-child::after {align-self: flex-start;width: 50%;}#sk-container-id-1 div.sk-parallel-item:only-child::after {width: 0;}#sk-container-id-1 div.sk-dashed-wrapped {border: 1px dashed gray;margin: 0 0.4em 0.5em 0.4em;box-sizing: border-box;padding-bottom: 0.4em;background-color: white;}#sk-container-id-1 div.sk-label label {font-family: monospace;font-weight: bold;display: inline-block;line-height: 1.2em;}#sk-container-id-1 div.sk-label-container {text-align: center;}#sk-container-id-1 div.sk-container {/* jupyter's `normalize.less` sets `[hidden] { display: none; }` but bootstrap.min.css set `[hidden] { display: none !important; }` so we also need the `!important` here to be able to override the default hidden behavior on the sphinx rendered scikit-learn.org. See: https://github.com/scikit-learn/scikit-learn/issues/21755 */display: inline-block !important;position: relative;}#sk-container-id-1 div.sk-text-repr-fallback {display: none;}</style><div id=\"sk-container-id-1\" class=\"sk-top-container\"><div class=\"sk-text-repr-fallback\"><pre>LinearDiscriminantAnalysis(store_covariance=True)</pre><b>In a Jupyter environment, please rerun this cell to show the HTML representation or trust the notebook. <br />On GitHub, the HTML representation is unable to render, please try loading this page with nbviewer.org.</b></div><div class=\"sk-container\" hidden><div class=\"sk-item\"><div class=\"sk-estimator sk-toggleable\"><input class=\"sk-toggleable__control sk-hidden--visually\" id=\"sk-estimator-id-1\" type=\"checkbox\" checked><label for=\"sk-estimator-id-1\" class=\"sk-toggleable__label sk-toggleable__label-arrow\">LinearDiscriminantAnalysis</label><div class=\"sk-toggleable__content\"><pre>LinearDiscriminantAnalysis(store_covariance=True)</pre></div></div></div></div></div>"
      ],
      "text/plain": [
       "LinearDiscriminantAnalysis(store_covariance=True)"
      ]
     },
     "execution_count": 26,
     "metadata": {},
     "output_type": "execute_result"
    }
   ],
   "source": [
    "X_train, X_test = [M.drop(columns=['intercept'])\n",
    "                  for M in [X_train, X_test]]\n",
    "lda.fit(X_train, L_train)"
   ]
  },
  {
   "cell_type": "code",
   "execution_count": 27,
   "id": "3d9b8b07",
   "metadata": {},
   "outputs": [
    {
     "data": {
      "text/plain": [
       "array([[-0.03568254],\n",
       "       [ 0.26036581]])"
      ]
     },
     "execution_count": 27,
     "metadata": {},
     "output_type": "execute_result"
    }
   ],
   "source": [
    "lda.means_"
   ]
  },
  {
   "cell_type": "code",
   "execution_count": 28,
   "id": "cd2b7b25",
   "metadata": {},
   "outputs": [
    {
     "data": {
      "text/plain": [
       "array(['Down', 'Up'], dtype='<U4')"
      ]
     },
     "execution_count": 28,
     "metadata": {},
     "output_type": "execute_result"
    }
   ],
   "source": [
    "lda.classes_"
   ]
  },
  {
   "cell_type": "code",
   "execution_count": 29,
   "id": "5d8b591a",
   "metadata": {},
   "outputs": [
    {
     "data": {
      "text/plain": [
       "array([0.44771574, 0.55228426])"
      ]
     },
     "execution_count": 29,
     "metadata": {},
     "output_type": "execute_result"
    }
   ],
   "source": [
    "lda.priors_"
   ]
  },
  {
   "cell_type": "code",
   "execution_count": 30,
   "id": "3fd11b6f",
   "metadata": {},
   "outputs": [
    {
     "data": {
      "text/plain": [
       "array([[0.44141622]])"
      ]
     },
     "execution_count": 30,
     "metadata": {},
     "output_type": "execute_result"
    }
   ],
   "source": [
    "lda.scalings_"
   ]
  },
  {
   "cell_type": "code",
   "execution_count": 31,
   "id": "57912f92",
   "metadata": {},
   "outputs": [],
   "source": [
    "lda_pred = lda.predict(X_test)"
   ]
  },
  {
   "cell_type": "code",
   "execution_count": 32,
   "id": "9f9d2c4c",
   "metadata": {},
   "outputs": [
    {
     "data": {
      "text/plain": [
       "985     Down\n",
       "986     Down\n",
       "987     Down\n",
       "988     Down\n",
       "989       Up\n",
       "        ... \n",
       "1084      Up\n",
       "1085      Up\n",
       "1086      Up\n",
       "1087      Up\n",
       "1088      Up\n",
       "Name: Direction, Length: 104, dtype: object"
      ]
     },
     "execution_count": 32,
     "metadata": {},
     "output_type": "execute_result"
    }
   ],
   "source": [
    "L_test"
   ]
  },
  {
   "cell_type": "code",
   "execution_count": 33,
   "id": "dc23b6a5",
   "metadata": {},
   "outputs": [
    {
     "data": {
      "text/html": [
       "<div>\n",
       "<style scoped>\n",
       "    .dataframe tbody tr th:only-of-type {\n",
       "        vertical-align: middle;\n",
       "    }\n",
       "\n",
       "    .dataframe tbody tr th {\n",
       "        vertical-align: top;\n",
       "    }\n",
       "\n",
       "    .dataframe thead th {\n",
       "        text-align: right;\n",
       "    }\n",
       "</style>\n",
       "<table border=\"1\" class=\"dataframe\">\n",
       "  <thead>\n",
       "    <tr style=\"text-align: right;\">\n",
       "      <th>Truth</th>\n",
       "      <th>Down</th>\n",
       "      <th>Up</th>\n",
       "    </tr>\n",
       "    <tr>\n",
       "      <th>Predicted</th>\n",
       "      <th></th>\n",
       "      <th></th>\n",
       "    </tr>\n",
       "  </thead>\n",
       "  <tbody>\n",
       "    <tr>\n",
       "      <th>Down</th>\n",
       "      <td>9</td>\n",
       "      <td>5</td>\n",
       "    </tr>\n",
       "    <tr>\n",
       "      <th>Up</th>\n",
       "      <td>34</td>\n",
       "      <td>56</td>\n",
       "    </tr>\n",
       "  </tbody>\n",
       "</table>\n",
       "</div>"
      ],
      "text/plain": [
       "Truth      Down  Up\n",
       "Predicted          \n",
       "Down          9   5\n",
       "Up           34  56"
      ]
     },
     "execution_count": 33,
     "metadata": {},
     "output_type": "execute_result"
    }
   ],
   "source": [
    "confusion_table(lda_pred, L_test)"
   ]
  },
  {
   "cell_type": "code",
   "execution_count": 34,
   "id": "2c15fbff",
   "metadata": {},
   "outputs": [
    {
     "name": "stdout",
     "output_type": "stream",
     "text": [
      "overall fraction of correct predictions for the held out data=  0.625\n"
     ]
    }
   ],
   "source": [
    "print('overall fraction of correct predictions for the held out data= ',(9+56)/(14+34+56))"
   ]
  },
  {
   "cell_type": "code",
   "execution_count": 35,
   "id": "b8cf5ca1",
   "metadata": {},
   "outputs": [
    {
     "name": "stdout",
     "output_type": "stream",
     "text": [
      "Classification Report:               precision    recall  f1-score   support\n",
      "\n",
      "        Down       0.64      0.21      0.32        43\n",
      "          Up       0.62      0.92      0.74        61\n",
      "\n",
      "    accuracy                           0.62       104\n",
      "   macro avg       0.63      0.56      0.53       104\n",
      "weighted avg       0.63      0.62      0.57       104\n",
      "\n"
     ]
    }
   ],
   "source": [
    "result = metrics.classification_report(L_test, lda_pred)\n",
    "print(\"Classification Report:\",result)"
   ]
  },
  {
   "cell_type": "code",
   "execution_count": 36,
   "id": "246b396d",
   "metadata": {},
   "outputs": [
    {
     "data": {
      "text/plain": [
       "True"
      ]
     },
     "execution_count": 36,
     "metadata": {},
     "output_type": "execute_result"
    }
   ],
   "source": [
    "lda_prob = lda.predict_proba(X_test)\n",
    "np.all(\n",
    "        np.where(lda_prob[:,1] >= 0.5, 'Up','Down') == lda_pred\n",
    "        )"
   ]
  },
  {
   "cell_type": "code",
   "execution_count": 37,
   "id": "a82d3edb",
   "metadata": {},
   "outputs": [
    {
     "data": {
      "text/plain": [
       "True"
      ]
     },
     "execution_count": 37,
     "metadata": {},
     "output_type": "execute_result"
    }
   ],
   "source": [
    "np.all(\n",
    "      [lda.classes_[i] for i in np.argmax(lda_prob, 1)] ==\n",
    "            lda_pred\n",
    "              )"
   ]
  },
  {
   "cell_type": "markdown",
   "id": "2a12da51",
   "metadata": {},
   "source": [
    "# (f)"
   ]
  },
  {
   "cell_type": "code",
   "execution_count": 38,
   "id": "efd96871",
   "metadata": {},
   "outputs": [
    {
     "data": {
      "text/html": [
       "<style>#sk-container-id-2 {color: black;}#sk-container-id-2 pre{padding: 0;}#sk-container-id-2 div.sk-toggleable {background-color: white;}#sk-container-id-2 label.sk-toggleable__label {cursor: pointer;display: block;width: 100%;margin-bottom: 0;padding: 0.3em;box-sizing: border-box;text-align: center;}#sk-container-id-2 label.sk-toggleable__label-arrow:before {content: \"▸\";float: left;margin-right: 0.25em;color: #696969;}#sk-container-id-2 label.sk-toggleable__label-arrow:hover:before {color: black;}#sk-container-id-2 div.sk-estimator:hover label.sk-toggleable__label-arrow:before {color: black;}#sk-container-id-2 div.sk-toggleable__content {max-height: 0;max-width: 0;overflow: hidden;text-align: left;background-color: #f0f8ff;}#sk-container-id-2 div.sk-toggleable__content pre {margin: 0.2em;color: black;border-radius: 0.25em;background-color: #f0f8ff;}#sk-container-id-2 input.sk-toggleable__control:checked~div.sk-toggleable__content {max-height: 200px;max-width: 100%;overflow: auto;}#sk-container-id-2 input.sk-toggleable__control:checked~label.sk-toggleable__label-arrow:before {content: \"▾\";}#sk-container-id-2 div.sk-estimator input.sk-toggleable__control:checked~label.sk-toggleable__label {background-color: #d4ebff;}#sk-container-id-2 div.sk-label input.sk-toggleable__control:checked~label.sk-toggleable__label {background-color: #d4ebff;}#sk-container-id-2 input.sk-hidden--visually {border: 0;clip: rect(1px 1px 1px 1px);clip: rect(1px, 1px, 1px, 1px);height: 1px;margin: -1px;overflow: hidden;padding: 0;position: absolute;width: 1px;}#sk-container-id-2 div.sk-estimator {font-family: monospace;background-color: #f0f8ff;border: 1px dotted black;border-radius: 0.25em;box-sizing: border-box;margin-bottom: 0.5em;}#sk-container-id-2 div.sk-estimator:hover {background-color: #d4ebff;}#sk-container-id-2 div.sk-parallel-item::after {content: \"\";width: 100%;border-bottom: 1px solid gray;flex-grow: 1;}#sk-container-id-2 div.sk-label:hover label.sk-toggleable__label {background-color: #d4ebff;}#sk-container-id-2 div.sk-serial::before {content: \"\";position: absolute;border-left: 1px solid gray;box-sizing: border-box;top: 0;bottom: 0;left: 50%;z-index: 0;}#sk-container-id-2 div.sk-serial {display: flex;flex-direction: column;align-items: center;background-color: white;padding-right: 0.2em;padding-left: 0.2em;position: relative;}#sk-container-id-2 div.sk-item {position: relative;z-index: 1;}#sk-container-id-2 div.sk-parallel {display: flex;align-items: stretch;justify-content: center;background-color: white;position: relative;}#sk-container-id-2 div.sk-item::before, #sk-container-id-2 div.sk-parallel-item::before {content: \"\";position: absolute;border-left: 1px solid gray;box-sizing: border-box;top: 0;bottom: 0;left: 50%;z-index: -1;}#sk-container-id-2 div.sk-parallel-item {display: flex;flex-direction: column;z-index: 1;position: relative;background-color: white;}#sk-container-id-2 div.sk-parallel-item:first-child::after {align-self: flex-end;width: 50%;}#sk-container-id-2 div.sk-parallel-item:last-child::after {align-self: flex-start;width: 50%;}#sk-container-id-2 div.sk-parallel-item:only-child::after {width: 0;}#sk-container-id-2 div.sk-dashed-wrapped {border: 1px dashed gray;margin: 0 0.4em 0.5em 0.4em;box-sizing: border-box;padding-bottom: 0.4em;background-color: white;}#sk-container-id-2 div.sk-label label {font-family: monospace;font-weight: bold;display: inline-block;line-height: 1.2em;}#sk-container-id-2 div.sk-label-container {text-align: center;}#sk-container-id-2 div.sk-container {/* jupyter's `normalize.less` sets `[hidden] { display: none; }` but bootstrap.min.css set `[hidden] { display: none !important; }` so we also need the `!important` here to be able to override the default hidden behavior on the sphinx rendered scikit-learn.org. See: https://github.com/scikit-learn/scikit-learn/issues/21755 */display: inline-block !important;position: relative;}#sk-container-id-2 div.sk-text-repr-fallback {display: none;}</style><div id=\"sk-container-id-2\" class=\"sk-top-container\"><div class=\"sk-text-repr-fallback\"><pre>QuadraticDiscriminantAnalysis(store_covariance=True)</pre><b>In a Jupyter environment, please rerun this cell to show the HTML representation or trust the notebook. <br />On GitHub, the HTML representation is unable to render, please try loading this page with nbviewer.org.</b></div><div class=\"sk-container\" hidden><div class=\"sk-item\"><div class=\"sk-estimator sk-toggleable\"><input class=\"sk-toggleable__control sk-hidden--visually\" id=\"sk-estimator-id-2\" type=\"checkbox\" checked><label for=\"sk-estimator-id-2\" class=\"sk-toggleable__label sk-toggleable__label-arrow\">QuadraticDiscriminantAnalysis</label><div class=\"sk-toggleable__content\"><pre>QuadraticDiscriminantAnalysis(store_covariance=True)</pre></div></div></div></div></div>"
      ],
      "text/plain": [
       "QuadraticDiscriminantAnalysis(store_covariance=True)"
      ]
     },
     "execution_count": 38,
     "metadata": {},
     "output_type": "execute_result"
    }
   ],
   "source": [
    "qda = QDA(store_covariance=True)\n",
    "qda.fit(X_train, L_train)"
   ]
  },
  {
   "cell_type": "code",
   "execution_count": 39,
   "id": "8b7f1a5b",
   "metadata": {},
   "outputs": [
    {
     "data": {
      "text/plain": [
       "(array([[-0.03568254],\n",
       "        [ 0.26036581]]),\n",
       " array([0.44771574, 0.55228426]))"
      ]
     },
     "execution_count": 39,
     "metadata": {},
     "output_type": "execute_result"
    }
   ],
   "source": [
    "qda.means_, qda.priors_"
   ]
  },
  {
   "cell_type": "code",
   "execution_count": 40,
   "id": "d9b43efa",
   "metadata": {},
   "outputs": [
    {
     "data": {
      "text/plain": [
       "array([[4.83781758]])"
      ]
     },
     "execution_count": 40,
     "metadata": {},
     "output_type": "execute_result"
    }
   ],
   "source": [
    "qda.covariance_[0]"
   ]
  },
  {
   "cell_type": "code",
   "execution_count": 41,
   "id": "70682075",
   "metadata": {},
   "outputs": [
    {
     "data": {
      "text/html": [
       "<div>\n",
       "<style scoped>\n",
       "    .dataframe tbody tr th:only-of-type {\n",
       "        vertical-align: middle;\n",
       "    }\n",
       "\n",
       "    .dataframe tbody tr th {\n",
       "        vertical-align: top;\n",
       "    }\n",
       "\n",
       "    .dataframe thead th {\n",
       "        text-align: right;\n",
       "    }\n",
       "</style>\n",
       "<table border=\"1\" class=\"dataframe\">\n",
       "  <thead>\n",
       "    <tr style=\"text-align: right;\">\n",
       "      <th>Truth</th>\n",
       "      <th>Down</th>\n",
       "      <th>Up</th>\n",
       "    </tr>\n",
       "    <tr>\n",
       "      <th>Predicted</th>\n",
       "      <th></th>\n",
       "      <th></th>\n",
       "    </tr>\n",
       "  </thead>\n",
       "  <tbody>\n",
       "    <tr>\n",
       "      <th>Down</th>\n",
       "      <td>0</td>\n",
       "      <td>0</td>\n",
       "    </tr>\n",
       "    <tr>\n",
       "      <th>Up</th>\n",
       "      <td>43</td>\n",
       "      <td>61</td>\n",
       "    </tr>\n",
       "  </tbody>\n",
       "</table>\n",
       "</div>"
      ],
      "text/plain": [
       "Truth      Down  Up\n",
       "Predicted          \n",
       "Down          0   0\n",
       "Up           43  61"
      ]
     },
     "execution_count": 41,
     "metadata": {},
     "output_type": "execute_result"
    }
   ],
   "source": [
    "qda_pred = qda.predict(X_test)\n",
    "confusion_table(qda_pred, L_test)"
   ]
  },
  {
   "cell_type": "code",
   "execution_count": 42,
   "id": "8e495bcd",
   "metadata": {},
   "outputs": [
    {
     "data": {
      "text/plain": [
       "0.5865384615384616"
      ]
     },
     "execution_count": 42,
     "metadata": {},
     "output_type": "execute_result"
    }
   ],
   "source": [
    "np.mean(qda_pred == L_test)"
   ]
  },
  {
   "cell_type": "code",
   "execution_count": 43,
   "id": "79e2a058",
   "metadata": {},
   "outputs": [
    {
     "name": "stdout",
     "output_type": "stream",
     "text": [
      "overall fraction of correct predictions for the held out data=  0.5865384615384616\n"
     ]
    }
   ],
   "source": [
    "print('overall fraction of correct predictions for the held out data= ',(61)/(14+34+56))"
   ]
  },
  {
   "cell_type": "code",
   "execution_count": 44,
   "id": "f66049f3",
   "metadata": {},
   "outputs": [
    {
     "name": "stdout",
     "output_type": "stream",
     "text": [
      "Classification Report:               precision    recall  f1-score   support\n",
      "\n",
      "        Down       0.00      0.00      0.00        43\n",
      "          Up       0.59      1.00      0.74        61\n",
      "\n",
      "    accuracy                           0.59       104\n",
      "   macro avg       0.29      0.50      0.37       104\n",
      "weighted avg       0.34      0.59      0.43       104\n",
      "\n"
     ]
    },
    {
     "name": "stderr",
     "output_type": "stream",
     "text": [
      "C:\\Users\\ishaj\\anaconda3\\lib\\site-packages\\sklearn\\metrics\\_classification.py:1469: UndefinedMetricWarning: Precision and F-score are ill-defined and being set to 0.0 in labels with no predicted samples. Use `zero_division` parameter to control this behavior.\n",
      "  _warn_prf(average, modifier, msg_start, len(result))\n",
      "C:\\Users\\ishaj\\anaconda3\\lib\\site-packages\\sklearn\\metrics\\_classification.py:1469: UndefinedMetricWarning: Precision and F-score are ill-defined and being set to 0.0 in labels with no predicted samples. Use `zero_division` parameter to control this behavior.\n",
      "  _warn_prf(average, modifier, msg_start, len(result))\n",
      "C:\\Users\\ishaj\\anaconda3\\lib\\site-packages\\sklearn\\metrics\\_classification.py:1469: UndefinedMetricWarning: Precision and F-score are ill-defined and being set to 0.0 in labels with no predicted samples. Use `zero_division` parameter to control this behavior.\n",
      "  _warn_prf(average, modifier, msg_start, len(result))\n"
     ]
    }
   ],
   "source": [
    "result = metrics.classification_report(L_test, qda_pred)\n",
    "print(\"Classification Report:\",result)"
   ]
  },
  {
   "cell_type": "markdown",
   "id": "122dc7d8",
   "metadata": {},
   "source": [
    "# (g)"
   ]
  },
  {
   "cell_type": "code",
   "execution_count": 45,
   "id": "fa82c8c8",
   "metadata": {},
   "outputs": [],
   "source": [
    "#needs scaling as distance based\n",
    "#scaler = StandardScaler(with_mean=True,\n",
    "        #with_std=True,\n",
    "       # copy=True)"
   ]
  },
  {
   "cell_type": "code",
   "execution_count": 46,
   "id": "48182361",
   "metadata": {},
   "outputs": [
    {
     "name": "stdout",
     "output_type": "stream",
     "text": [
      "(985, 1)\n",
      "(104, 1)\n"
     ]
    }
   ],
   "source": [
    "from sklearn.preprocessing import StandardScaler\n",
    "scaler = StandardScaler()\n",
    "scaler.fit(X_train)\n",
    "X_train_scaled = scaler.transform(X_train)\n",
    "X_test_scaled = scaler.transform(X_test)\n",
    "\n",
    "print(X_train_scaled.shape)\n",
    "print(X_test_scaled.shape)"
   ]
  },
  {
   "cell_type": "code",
   "execution_count": 47,
   "id": "1c54b58f",
   "metadata": {},
   "outputs": [],
   "source": [
    "#new feature matrix as filtering with year needs to be performed post scaling\n",
    "#feature_df = Weekly.drop(columns=[ 'Year','Lag1', 'Lag3','Lag4','Lag5','Volume','Today','Direction'])\n",
    "#Year_column=Weekly['Year']"
   ]
  },
  {
   "cell_type": "code",
   "execution_count": 48,
   "id": "8265ad34",
   "metadata": {},
   "outputs": [],
   "source": [
    "#scaler.fit(feature_df)\n",
    "#X_std = scaler.transform(feature_df)"
   ]
  },
  {
   "cell_type": "code",
   "execution_count": 49,
   "id": "c0d1ffe3",
   "metadata": {},
   "outputs": [],
   "source": [
    "#feature_std = pd.DataFrame(\n",
    " #           X_std,\n",
    "  #          columns=feature_df.columns);\n",
    "#feature_std.std()"
   ]
  },
  {
   "cell_type": "code",
   "execution_count": 50,
   "id": "119c80a9",
   "metadata": {},
   "outputs": [],
   "source": [
    "Direction=Weekly.Direction"
   ]
  },
  {
   "cell_type": "code",
   "execution_count": 51,
   "id": "3ec15e88",
   "metadata": {},
   "outputs": [],
   "source": [
    "#feature_std"
   ]
  },
  {
   "cell_type": "code",
   "execution_count": 52,
   "id": "c1115eb9",
   "metadata": {},
   "outputs": [],
   "source": [
    "#concatenating the 2 dataframes to allow filtering to create test and train set\n",
    "#scaled_lag2_with_year = pd.concat([feature_std, Year_column], axis=1)"
   ]
  },
  {
   "cell_type": "code",
   "execution_count": 53,
   "id": "49cb2ec1",
   "metadata": {},
   "outputs": [],
   "source": [
    "#scaled_lag2_with_year.head()"
   ]
  },
  {
   "cell_type": "code",
   "execution_count": 54,
   "id": "7cd91c97",
   "metadata": {},
   "outputs": [],
   "source": [
    "#splitting dataset after scaling \n",
    "#X_train_scaled=scaled_lag2_with_year.Year<2009"
   ]
  },
  {
   "cell_type": "code",
   "execution_count": 55,
   "id": "d13f808f",
   "metadata": {},
   "outputs": [],
   "source": [
    "#X_train_scaled.head(5)"
   ]
  },
  {
   "cell_type": "code",
   "execution_count": 56,
   "id": "5e608a16",
   "metadata": {},
   "outputs": [],
   "source": [
    "#train = (Weekly.Year < 2009)\n",
    "#scaled_train_year = scaled_lag2_with_year.loc[train]\n",
    "#scaled_test_year = scaled_lag2_with_year.loc[~train]\n",
    "#scaled_test_year.shape"
   ]
  },
  {
   "cell_type": "code",
   "execution_count": 57,
   "id": "648f3606",
   "metadata": {},
   "outputs": [],
   "source": [
    "#scaled_test_year.head(5)"
   ]
  },
  {
   "cell_type": "code",
   "execution_count": 58,
   "id": "372519c6",
   "metadata": {},
   "outputs": [],
   "source": [
    "#getting rid of year as a predictor\n",
    "#scaled_test=scaled_test_year['Lag2']\n",
    "#scaled_train=scaled_train_year['Lag2']\n",
    "#scaled_test.head(5)"
   ]
  },
  {
   "cell_type": "code",
   "execution_count": 59,
   "id": "caeaa4bb",
   "metadata": {},
   "outputs": [
    {
     "data": {
      "text/plain": [
       "985     False\n",
       "986     False\n",
       "987     False\n",
       "988     False\n",
       "989      True\n",
       "        ...  \n",
       "1084     True\n",
       "1085     True\n",
       "1086     True\n",
       "1087     True\n",
       "1088     True\n",
       "Name: Direction, Length: 104, dtype: bool"
      ]
     },
     "execution_count": 59,
     "metadata": {},
     "output_type": "execute_result"
    }
   ],
   "source": [
    "y_test"
   ]
  },
  {
   "cell_type": "code",
   "execution_count": 60,
   "id": "dcd119f9",
   "metadata": {},
   "outputs": [
    {
     "name": "stdout",
     "output_type": "stream",
     "text": [
      "0.49038461538461536\n"
     ]
    }
   ],
   "source": [
    "\n",
    "knn1 = KNeighborsClassifier(n_neighbors=1)\n",
    "knn1_model = knn1.fit(X_train_scaled, y_train)\n",
    "y_pred = knn1_model.predict(X_test_scaled)\n",
    "score = metrics.accuracy_score(y_test,y_pred)\n",
    "#.predict(scaled_test)\n",
    "print(score)\n",
    "#np.mean(y_test != knn1_pred)"
   ]
  },
  {
   "cell_type": "code",
   "execution_count": 61,
   "id": "200413b0",
   "metadata": {},
   "outputs": [
    {
     "data": {
      "text/html": [
       "<div>\n",
       "<style scoped>\n",
       "    .dataframe tbody tr th:only-of-type {\n",
       "        vertical-align: middle;\n",
       "    }\n",
       "\n",
       "    .dataframe tbody tr th {\n",
       "        vertical-align: top;\n",
       "    }\n",
       "\n",
       "    .dataframe thead th {\n",
       "        text-align: right;\n",
       "    }\n",
       "</style>\n",
       "<table border=\"1\" class=\"dataframe\">\n",
       "  <thead>\n",
       "    <tr style=\"text-align: right;\">\n",
       "      <th>Truth</th>\n",
       "      <th>False</th>\n",
       "      <th>True</th>\n",
       "    </tr>\n",
       "    <tr>\n",
       "      <th>Predicted</th>\n",
       "      <th></th>\n",
       "      <th></th>\n",
       "    </tr>\n",
       "  </thead>\n",
       "  <tbody>\n",
       "    <tr>\n",
       "      <th>False</th>\n",
       "      <td>22</td>\n",
       "      <td>32</td>\n",
       "    </tr>\n",
       "    <tr>\n",
       "      <th>True</th>\n",
       "      <td>21</td>\n",
       "      <td>29</td>\n",
       "    </tr>\n",
       "  </tbody>\n",
       "</table>\n",
       "</div>"
      ],
      "text/plain": [
       "Truth      False  True\n",
       "Predicted             \n",
       "False         22    32\n",
       "True          21    29"
      ]
     },
     "execution_count": 61,
     "metadata": {},
     "output_type": "execute_result"
    }
   ],
   "source": [
    "#False corresponds to the 'down' label, the 'up' label is represented by true\n",
    "confusion_table(y_pred, y_test)"
   ]
  },
  {
   "cell_type": "code",
   "execution_count": 62,
   "id": "9ebf5da4",
   "metadata": {},
   "outputs": [
    {
     "data": {
      "text/html": [
       "<div>\n",
       "<style scoped>\n",
       "    .dataframe tbody tr th:only-of-type {\n",
       "        vertical-align: middle;\n",
       "    }\n",
       "\n",
       "    .dataframe tbody tr th {\n",
       "        vertical-align: top;\n",
       "    }\n",
       "\n",
       "    .dataframe thead th {\n",
       "        text-align: right;\n",
       "    }\n",
       "</style>\n",
       "<table border=\"1\" class=\"dataframe\">\n",
       "  <thead>\n",
       "    <tr style=\"text-align: right;\">\n",
       "      <th>Truth</th>\n",
       "      <th>False</th>\n",
       "      <th>True</th>\n",
       "    </tr>\n",
       "    <tr>\n",
       "      <th>Predicted</th>\n",
       "      <th></th>\n",
       "      <th></th>\n",
       "    </tr>\n",
       "  </thead>\n",
       "  <tbody>\n",
       "    <tr>\n",
       "      <th>False</th>\n",
       "      <td>22</td>\n",
       "      <td>21</td>\n",
       "    </tr>\n",
       "    <tr>\n",
       "      <th>True</th>\n",
       "      <td>32</td>\n",
       "      <td>29</td>\n",
       "    </tr>\n",
       "  </tbody>\n",
       "</table>\n",
       "</div>"
      ],
      "text/plain": [
       "Truth      False  True\n",
       "Predicted             \n",
       "False         22    21\n",
       "True          32    29"
      ]
     },
     "execution_count": 62,
     "metadata": {},
     "output_type": "execute_result"
    }
   ],
   "source": [
    "\n",
    "confusion_table( y_test, y_pred)"
   ]
  },
  {
   "cell_type": "code",
   "execution_count": 63,
   "id": "15f91e3a",
   "metadata": {},
   "outputs": [
    {
     "data": {
      "text/plain": [
       "array([[22, 21],\n",
       "       [32, 29]], dtype=int64)"
      ]
     },
     "execution_count": 63,
     "metadata": {},
     "output_type": "execute_result"
    }
   ],
   "source": [
    "metrics.confusion_matrix(y_test, y_pred)\n",
    "#print(\"Confusion Matrix:\")\n",
    "#print(result)"
   ]
  },
  {
   "cell_type": "code",
   "execution_count": 64,
   "id": "a8f1fd60",
   "metadata": {},
   "outputs": [
    {
     "name": "stdout",
     "output_type": "stream",
     "text": [
      "overall fraction of correct predictions for the held out data=  0.49038461538461536\n"
     ]
    }
   ],
   "source": [
    "print('overall fraction of correct predictions for the held out data= ',(22+29)/(14+34+56))"
   ]
  },
  {
   "cell_type": "code",
   "execution_count": 65,
   "id": "8ca97064",
   "metadata": {},
   "outputs": [
    {
     "name": "stdout",
     "output_type": "stream",
     "text": [
      "Classification Report:               precision    recall  f1-score   support\n",
      "\n",
      "       False       0.41      0.51      0.45        43\n",
      "        True       0.58      0.48      0.52        61\n",
      "\n",
      "    accuracy                           0.49       104\n",
      "   macro avg       0.49      0.49      0.49       104\n",
      "weighted avg       0.51      0.49      0.49       104\n",
      "\n"
     ]
    }
   ],
   "source": [
    "result = metrics.classification_report(y_test, y_pred)\n",
    "print(\"Classification Report:\",result)"
   ]
  },
  {
   "cell_type": "markdown",
   "id": "30202279",
   "metadata": {},
   "source": [
    "# (j)"
   ]
  },
  {
   "cell_type": "code",
   "execution_count": 66,
   "id": "390fb23b",
   "metadata": {},
   "outputs": [
    {
     "name": "stdout",
     "output_type": "stream",
     "text": [
      "      intercept   Lag1  Year   Lag2  Lag1:Lag2  Lag2:Year  Lag2:Year\n",
      "0           1.0  0.816  1990  1.572   1.282752    3128.28    3128.28\n",
      "1           1.0 -0.270  1990  0.816  -0.220320    1623.84    1623.84\n",
      "2           1.0 -2.576  1990 -0.270   0.695520    -537.30    -537.30\n",
      "3           1.0  3.514  1990 -2.576  -9.052064   -5126.24   -5126.24\n",
      "4           1.0  0.712  1990  3.514   2.501968    6992.86    6992.86\n",
      "...         ...    ...   ...    ...        ...        ...        ...\n",
      "1084        1.0 -0.861  2010  0.043  -0.037023      86.43      86.43\n",
      "1085        1.0  2.969  2010 -0.861  -2.556309   -1730.61   -1730.61\n",
      "1086        1.0  1.281  2010  2.969   3.803289    5967.69    5967.69\n",
      "1087        1.0  0.283  2010  1.281   0.362523    2574.81    2574.81\n",
      "1088        1.0  1.034  2010  0.283   0.292622     568.83     568.83\n",
      "\n",
      "[1089 rows x 7 columns]\n"
     ]
    }
   ],
   "source": [
    "#import statsmodels.api as sm\n",
    "X_interaction1 = MS(['Lag1',\n",
    "  'Year','Lag2',\n",
    "    ('Lag1', 'Lag2'),('Lag2', 'Year'),('Lag2', 'Year')]).fit_transform(Weekly)\n",
    "print(X_interaction1)\n",
    "#summarize(model_interaction1.fit())\n",
    "X_interaction1_train=X_interaction1.loc[X_interaction1['Year'] <2009]\n",
    "X_interaction1_train.tail()\n",
    "X_interaction1_test=X_interaction1.loc[X_interaction1['Year'] >2008]"
   ]
  },
  {
   "cell_type": "code",
   "execution_count": 67,
   "id": "3d89dc22",
   "metadata": {},
   "outputs": [
    {
     "name": "stderr",
     "output_type": "stream",
     "text": [
      "C:\\Users\\ishaj\\anaconda3\\lib\\site-packages\\sklearn\\discriminant_analysis.py:935: UserWarning: Variables are collinear\n",
      "  warnings.warn(\"Variables are collinear\")\n",
      "C:\\Users\\ishaj\\anaconda3\\lib\\site-packages\\sklearn\\discriminant_analysis.py:960: RuntimeWarning: divide by zero encountered in power\n",
      "  X2 = np.dot(Xm, R * (S ** (-0.5)))\n",
      "C:\\Users\\ishaj\\anaconda3\\lib\\site-packages\\sklearn\\discriminant_analysis.py:960: RuntimeWarning: invalid value encountered in multiply\n",
      "  X2 = np.dot(Xm, R * (S ** (-0.5)))\n",
      "C:\\Users\\ishaj\\anaconda3\\lib\\site-packages\\sklearn\\discriminant_analysis.py:963: RuntimeWarning: divide by zero encountered in log\n",
      "  u = np.asarray([np.sum(np.log(s)) for s in self.scalings_])\n"
     ]
    },
    {
     "data": {
      "text/html": [
       "<div>\n",
       "<style scoped>\n",
       "    .dataframe tbody tr th:only-of-type {\n",
       "        vertical-align: middle;\n",
       "    }\n",
       "\n",
       "    .dataframe tbody tr th {\n",
       "        vertical-align: top;\n",
       "    }\n",
       "\n",
       "    .dataframe thead th {\n",
       "        text-align: right;\n",
       "    }\n",
       "</style>\n",
       "<table border=\"1\" class=\"dataframe\">\n",
       "  <thead>\n",
       "    <tr style=\"text-align: right;\">\n",
       "      <th>Truth</th>\n",
       "      <th>Down</th>\n",
       "      <th>Up</th>\n",
       "    </tr>\n",
       "    <tr>\n",
       "      <th>Predicted</th>\n",
       "      <th></th>\n",
       "      <th></th>\n",
       "    </tr>\n",
       "  </thead>\n",
       "  <tbody>\n",
       "    <tr>\n",
       "      <th>Down</th>\n",
       "      <td>43</td>\n",
       "      <td>61</td>\n",
       "    </tr>\n",
       "    <tr>\n",
       "      <th>Up</th>\n",
       "      <td>0</td>\n",
       "      <td>0</td>\n",
       "    </tr>\n",
       "  </tbody>\n",
       "</table>\n",
       "</div>"
      ],
      "text/plain": [
       "Truth      Down  Up\n",
       "Predicted          \n",
       "Down         43  61\n",
       "Up            0   0"
      ]
     },
     "execution_count": 67,
     "metadata": {},
     "output_type": "execute_result"
    }
   ],
   "source": [
    "qda_interaction = QDA(store_covariance=True)\n",
    "qda_interaction.fit(X_interaction1_train, L_train)\n",
    "qda_pred_i = qda_interaction.predict(X_interaction1_test)\n",
    "confusion_table(qda_pred_i, L_test)"
   ]
  },
  {
   "cell_type": "code",
   "execution_count": 68,
   "id": "45b664c8",
   "metadata": {},
   "outputs": [
    {
     "name": "stdout",
     "output_type": "stream",
     "text": [
      "overall fraction of correct predictions for the held out data=  0.41346153846153844\n"
     ]
    }
   ],
   "source": [
    "print('overall fraction of correct predictions for the held out data= ',(43)/(14+34+56))"
   ]
  },
  {
   "cell_type": "code",
   "execution_count": 69,
   "id": "83da4f0e",
   "metadata": {},
   "outputs": [
    {
     "name": "stdout",
     "output_type": "stream",
     "text": [
      "Classification Report:               precision    recall  f1-score   support\n",
      "\n",
      "        Down       0.41      1.00      0.59        43\n",
      "          Up       0.00      0.00      0.00        61\n",
      "\n",
      "    accuracy                           0.41       104\n",
      "   macro avg       0.21      0.50      0.29       104\n",
      "weighted avg       0.17      0.41      0.24       104\n",
      "\n"
     ]
    },
    {
     "name": "stderr",
     "output_type": "stream",
     "text": [
      "C:\\Users\\ishaj\\anaconda3\\lib\\site-packages\\sklearn\\metrics\\_classification.py:1469: UndefinedMetricWarning: Precision and F-score are ill-defined and being set to 0.0 in labels with no predicted samples. Use `zero_division` parameter to control this behavior.\n",
      "  _warn_prf(average, modifier, msg_start, len(result))\n",
      "C:\\Users\\ishaj\\anaconda3\\lib\\site-packages\\sklearn\\metrics\\_classification.py:1469: UndefinedMetricWarning: Precision and F-score are ill-defined and being set to 0.0 in labels with no predicted samples. Use `zero_division` parameter to control this behavior.\n",
      "  _warn_prf(average, modifier, msg_start, len(result))\n",
      "C:\\Users\\ishaj\\anaconda3\\lib\\site-packages\\sklearn\\metrics\\_classification.py:1469: UndefinedMetricWarning: Precision and F-score are ill-defined and being set to 0.0 in labels with no predicted samples. Use `zero_division` parameter to control this behavior.\n",
      "  _warn_prf(average, modifier, msg_start, len(result))\n"
     ]
    }
   ],
   "source": [
    "result = metrics.classification_report(L_test, qda_pred_i)\n",
    "print(\"Classification Report:\",result)"
   ]
  },
  {
   "cell_type": "code",
   "execution_count": 70,
   "id": "410c200a",
   "metadata": {},
   "outputs": [
    {
     "name": "stdout",
     "output_type": "stream",
     "text": [
      "      intercept   Lag1  Year   Lag4   Lag2  Lag1:Lag2  Lag2:Lag4  Lag2:Lag4\n",
      "0           1.0  0.816  1990 -0.229  1.572   1.282752  -0.359988  -0.359988\n",
      "1           1.0 -0.270  1990 -3.936  0.816  -0.220320  -3.211776  -3.211776\n",
      "2           1.0 -2.576  1990  1.572 -0.270   0.695520  -0.424440  -0.424440\n",
      "3           1.0  3.514  1990  0.816 -2.576  -9.052064  -2.102016  -2.102016\n",
      "4           1.0  0.712  1990 -0.270  3.514   2.501968  -0.948780  -0.948780\n",
      "...         ...    ...   ...    ...    ...        ...        ...        ...\n",
      "1084        1.0 -0.861  2010  3.599  0.043  -0.037023   0.154757   0.154757\n",
      "1085        1.0  2.969  2010 -2.173 -0.861  -2.556309   1.870953   1.870953\n",
      "1086        1.0  1.281  2010  0.043  2.969   3.803289   0.127667   0.127667\n",
      "1087        1.0  0.283  2010 -0.861  1.281   0.362523  -1.102941  -1.102941\n",
      "1088        1.0  1.034  2010  2.969  0.283   0.292622   0.840227   0.840227\n",
      "\n",
      "[1089 rows x 8 columns]\n"
     ]
    }
   ],
   "source": [
    "#import statsmodels.api as sm\n",
    "X_interaction2 = MS(['Lag1','Year',\n",
    "  'Lag4','Lag2',\n",
    "    ('Lag1', 'Lag2'),('Lag2', 'Lag4'),('Lag2', 'Lag4')]).fit_transform(Weekly)\n",
    "print(X_interaction2)\n",
    "#summarize(model_interaction1.fit())\n",
    "X_interaction2_train=X_interaction2.loc[X_interaction2['Year'] <2009]\n",
    "X_interaction2_train.tail()\n",
    "X_interaction2_test=X_interaction2.loc[X_interaction2['Year'] >2008]"
   ]
  },
  {
   "cell_type": "code",
   "execution_count": 71,
   "id": "369cc5d5",
   "metadata": {},
   "outputs": [
    {
     "data": {
      "text/html": [
       "<div>\n",
       "<style scoped>\n",
       "    .dataframe tbody tr th:only-of-type {\n",
       "        vertical-align: middle;\n",
       "    }\n",
       "\n",
       "    .dataframe tbody tr th {\n",
       "        vertical-align: top;\n",
       "    }\n",
       "\n",
       "    .dataframe thead th {\n",
       "        text-align: right;\n",
       "    }\n",
       "</style>\n",
       "<table border=\"1\" class=\"dataframe\">\n",
       "  <thead>\n",
       "    <tr style=\"text-align: right;\">\n",
       "      <th>Truth</th>\n",
       "      <th>Down</th>\n",
       "      <th>Up</th>\n",
       "    </tr>\n",
       "    <tr>\n",
       "      <th>Predicted</th>\n",
       "      <th></th>\n",
       "      <th></th>\n",
       "    </tr>\n",
       "  </thead>\n",
       "  <tbody>\n",
       "    <tr>\n",
       "      <th>Down</th>\n",
       "      <td>21</td>\n",
       "      <td>21</td>\n",
       "    </tr>\n",
       "    <tr>\n",
       "      <th>Up</th>\n",
       "      <td>22</td>\n",
       "      <td>40</td>\n",
       "    </tr>\n",
       "  </tbody>\n",
       "</table>\n",
       "</div>"
      ],
      "text/plain": [
       "Truth      Down  Up\n",
       "Predicted          \n",
       "Down         21  21\n",
       "Up           22  40"
      ]
     },
     "execution_count": 71,
     "metadata": {},
     "output_type": "execute_result"
    }
   ],
   "source": [
    "#LDA model\n",
    "lda_interaction = LDA(store_covariance=True)\n",
    "lda_interaction.fit(X_interaction2_train, L_train)\n",
    "lda_pred_i = lda_interaction.predict(X_interaction2_test)\n",
    "confusion_table(lda_pred_i, L_test)"
   ]
  },
  {
   "cell_type": "code",
   "execution_count": 72,
   "id": "9f60f3b6",
   "metadata": {},
   "outputs": [
    {
     "name": "stdout",
     "output_type": "stream",
     "text": [
      "overall fraction of correct predictions for the held out data=  0.5865384615384616\n"
     ]
    }
   ],
   "source": [
    "print('overall fraction of correct predictions for the held out data= ',(21+40)/(14+34+56))"
   ]
  },
  {
   "cell_type": "code",
   "execution_count": 73,
   "id": "b59a86b2",
   "metadata": {},
   "outputs": [
    {
     "name": "stdout",
     "output_type": "stream",
     "text": [
      "Classification Report:               precision    recall  f1-score   support\n",
      "\n",
      "        Down       0.50      0.49      0.49        43\n",
      "          Up       0.65      0.66      0.65        61\n",
      "\n",
      "    accuracy                           0.59       104\n",
      "   macro avg       0.57      0.57      0.57       104\n",
      "weighted avg       0.59      0.59      0.59       104\n",
      "\n"
     ]
    }
   ],
   "source": [
    "result = metrics.classification_report(L_test, lda_pred_i)\n",
    "print(\"Classification Report:\",result)"
   ]
  },
  {
   "cell_type": "code",
   "execution_count": 74,
   "id": "59f88577",
   "metadata": {},
   "outputs": [],
   "source": [
    "#import patsy\n",
    "#y, X = patsy.dmatrices('Direction ~ Lag2 + Lag1 + Year + Lag2:Year', train_data)\n",
    "#print(Direction,y)\n",
    "\n",
    "#qda = QDA(store_covariance=True)\n",
    "#qda.fit(X, y)\n",
    "\n",
    "#print(y)"
   ]
  },
  {
   "cell_type": "code",
   "execution_count": 75,
   "id": "88fc2c75",
   "metadata": {},
   "outputs": [
    {
     "name": "stdout",
     "output_type": "stream",
     "text": [
      "[0.49038461538461536, 0.47115384615384615, 0.5673076923076923, 0.5769230769230769, 0.5384615384615384, 0.5, 0.5480769230769231, 0.5576923076923077, 0.5576923076923077, 0.5673076923076923, 0.5576923076923077, 0.5673076923076923, 0.5865384615384616, 0.5673076923076923]\n"
     ]
    },
    {
     "data": {
      "text/plain": [
       "Text(0, 0.5, 'Accuracy')"
      ]
     },
     "execution_count": 75,
     "metadata": {},
     "output_type": "execute_result"
    },
    {
     "data": {
      "image/png": "[encoded data removed]",
      "text/plain": [
       "<Figure size 432x288 with 1 Axes>"
      ]
     },
     "metadata": {
      "needs_background": "light"
     },
     "output_type": "display_data"
    }
   ],
   "source": [
    "range_k = range(1,15)\n",
    "\n",
    "scores_list = []\n",
    "for k in range_k:\n",
    "   classifier = KNeighborsClassifier(n_neighbors=k)\n",
    "   classifier.fit(X_train_scaled, y_train)\n",
    "   y_pred = classifier.predict(X_test_scaled)\n",
    "   \n",
    "   scores_list.append(metrics.accuracy_score(y_test,y_pred))\n",
    "\n",
    "print (scores_list)\n",
    "\n",
    "%matplotlib inline\n",
    "import matplotlib.pyplot as plt\n",
    "plt.plot(range_k,scores_list)\n",
    "plt.xlabel(\"Value of K\")\n",
    "plt.ylabel(\"Accuracy\")\n",
    "\n",
    "#k=13 results in the highest accuracy of around 58.65%"
   ]
  },
  {
   "cell_type": "markdown",
   "id": "027162ef",
   "metadata": {},
   "source": [
    "# 14"
   ]
  },
  {
   "cell_type": "code",
   "execution_count": 76,
   "id": "4e09ce07",
   "metadata": {},
   "outputs": [
    {
     "data": {
      "text/html": [
       "<div>\n",
       "<style scoped>\n",
       "    .dataframe tbody tr th:only-of-type {\n",
       "        vertical-align: middle;\n",
       "    }\n",
       "\n",
       "    .dataframe tbody tr th {\n",
       "        vertical-align: top;\n",
       "    }\n",
       "\n",
       "    .dataframe thead th {\n",
       "        text-align: right;\n",
       "    }\n",
       "</style>\n",
       "<table border=\"1\" class=\"dataframe\">\n",
       "  <thead>\n",
       "    <tr style=\"text-align: right;\">\n",
       "      <th></th>\n",
       "      <th>mpg</th>\n",
       "      <th>cylinders</th>\n",
       "      <th>displacement</th>\n",
       "      <th>horsepower</th>\n",
       "      <th>weight</th>\n",
       "      <th>acceleration</th>\n",
       "      <th>year</th>\n",
       "      <th>origin</th>\n",
       "      <th>name</th>\n",
       "    </tr>\n",
       "  </thead>\n",
       "  <tbody>\n",
       "    <tr>\n",
       "      <th>387</th>\n",
       "      <td>27.0</td>\n",
       "      <td>4</td>\n",
       "      <td>140.0</td>\n",
       "      <td>86</td>\n",
       "      <td>2790</td>\n",
       "      <td>15.6</td>\n",
       "      <td>82</td>\n",
       "      <td>1</td>\n",
       "      <td>ford mustang gl</td>\n",
       "    </tr>\n",
       "    <tr>\n",
       "      <th>388</th>\n",
       "      <td>44.0</td>\n",
       "      <td>4</td>\n",
       "      <td>97.0</td>\n",
       "      <td>52</td>\n",
       "      <td>2130</td>\n",
       "      <td>24.6</td>\n",
       "      <td>82</td>\n",
       "      <td>2</td>\n",
       "      <td>vw pickup</td>\n",
       "    </tr>\n",
       "    <tr>\n",
       "      <th>389</th>\n",
       "      <td>32.0</td>\n",
       "      <td>4</td>\n",
       "      <td>135.0</td>\n",
       "      <td>84</td>\n",
       "      <td>2295</td>\n",
       "      <td>11.6</td>\n",
       "      <td>82</td>\n",
       "      <td>1</td>\n",
       "      <td>dodge rampage</td>\n",
       "    </tr>\n",
       "    <tr>\n",
       "      <th>390</th>\n",
       "      <td>28.0</td>\n",
       "      <td>4</td>\n",
       "      <td>120.0</td>\n",
       "      <td>79</td>\n",
       "      <td>2625</td>\n",
       "      <td>18.6</td>\n",
       "      <td>82</td>\n",
       "      <td>1</td>\n",
       "      <td>ford ranger</td>\n",
       "    </tr>\n",
       "    <tr>\n",
       "      <th>391</th>\n",
       "      <td>31.0</td>\n",
       "      <td>4</td>\n",
       "      <td>119.0</td>\n",
       "      <td>82</td>\n",
       "      <td>2720</td>\n",
       "      <td>19.4</td>\n",
       "      <td>82</td>\n",
       "      <td>1</td>\n",
       "      <td>chevy s-10</td>\n",
       "    </tr>\n",
       "  </tbody>\n",
       "</table>\n",
       "</div>"
      ],
      "text/plain": [
       "      mpg  cylinders  displacement  horsepower  weight  acceleration  year  \\\n",
       "387  27.0          4         140.0          86    2790          15.6    82   \n",
       "388  44.0          4          97.0          52    2130          24.6    82   \n",
       "389  32.0          4         135.0          84    2295          11.6    82   \n",
       "390  28.0          4         120.0          79    2625          18.6    82   \n",
       "391  31.0          4         119.0          82    2720          19.4    82   \n",
       "\n",
       "     origin             name  \n",
       "387       1  ford mustang gl  \n",
       "388       2        vw pickup  \n",
       "389       1    dodge rampage  \n",
       "390       1      ford ranger  \n",
       "391       1       chevy s-10  "
      ]
     },
     "execution_count": 76,
     "metadata": {},
     "output_type": "execute_result"
    }
   ],
   "source": [
    "Auto = load_data('Auto')\n",
    "Auto.tail(5)"
   ]
  },
  {
   "cell_type": "markdown",
   "id": "85081410",
   "metadata": {},
   "source": [
    "# (a)"
   ]
  },
  {
   "cell_type": "code",
   "execution_count": 77,
   "id": "3ced7702",
   "metadata": {},
   "outputs": [
    {
     "name": "stdout",
     "output_type": "stream",
     "text": [
      "22.75\n"
     ]
    }
   ],
   "source": [
    "median_mileage=Auto['mpg'].median()\n",
    "print(median_mileage)   "
   ]
  },
  {
   "cell_type": "code",
   "execution_count": 78,
   "id": "a7bc7cfe",
   "metadata": {},
   "outputs": [
    {
     "data": {
      "text/html": [
       "<div>\n",
       "<style scoped>\n",
       "    .dataframe tbody tr th:only-of-type {\n",
       "        vertical-align: middle;\n",
       "    }\n",
       "\n",
       "    .dataframe tbody tr th {\n",
       "        vertical-align: top;\n",
       "    }\n",
       "\n",
       "    .dataframe thead th {\n",
       "        text-align: right;\n",
       "    }\n",
       "</style>\n",
       "<table border=\"1\" class=\"dataframe\">\n",
       "  <thead>\n",
       "    <tr style=\"text-align: right;\">\n",
       "      <th></th>\n",
       "      <th>mpg</th>\n",
       "      <th>cylinders</th>\n",
       "      <th>displacement</th>\n",
       "      <th>horsepower</th>\n",
       "      <th>weight</th>\n",
       "      <th>acceleration</th>\n",
       "      <th>year</th>\n",
       "      <th>origin</th>\n",
       "      <th>name</th>\n",
       "      <th>mpg01</th>\n",
       "    </tr>\n",
       "  </thead>\n",
       "  <tbody>\n",
       "    <tr>\n",
       "      <th>387</th>\n",
       "      <td>27.0</td>\n",
       "      <td>4</td>\n",
       "      <td>140.0</td>\n",
       "      <td>86</td>\n",
       "      <td>2790</td>\n",
       "      <td>15.6</td>\n",
       "      <td>82</td>\n",
       "      <td>1</td>\n",
       "      <td>ford mustang gl</td>\n",
       "      <td>1</td>\n",
       "    </tr>\n",
       "    <tr>\n",
       "      <th>388</th>\n",
       "      <td>44.0</td>\n",
       "      <td>4</td>\n",
       "      <td>97.0</td>\n",
       "      <td>52</td>\n",
       "      <td>2130</td>\n",
       "      <td>24.6</td>\n",
       "      <td>82</td>\n",
       "      <td>2</td>\n",
       "      <td>vw pickup</td>\n",
       "      <td>1</td>\n",
       "    </tr>\n",
       "    <tr>\n",
       "      <th>389</th>\n",
       "      <td>32.0</td>\n",
       "      <td>4</td>\n",
       "      <td>135.0</td>\n",
       "      <td>84</td>\n",
       "      <td>2295</td>\n",
       "      <td>11.6</td>\n",
       "      <td>82</td>\n",
       "      <td>1</td>\n",
       "      <td>dodge rampage</td>\n",
       "      <td>1</td>\n",
       "    </tr>\n",
       "    <tr>\n",
       "      <th>390</th>\n",
       "      <td>28.0</td>\n",
       "      <td>4</td>\n",
       "      <td>120.0</td>\n",
       "      <td>79</td>\n",
       "      <td>2625</td>\n",
       "      <td>18.6</td>\n",
       "      <td>82</td>\n",
       "      <td>1</td>\n",
       "      <td>ford ranger</td>\n",
       "      <td>1</td>\n",
       "    </tr>\n",
       "    <tr>\n",
       "      <th>391</th>\n",
       "      <td>31.0</td>\n",
       "      <td>4</td>\n",
       "      <td>119.0</td>\n",
       "      <td>82</td>\n",
       "      <td>2720</td>\n",
       "      <td>19.4</td>\n",
       "      <td>82</td>\n",
       "      <td>1</td>\n",
       "      <td>chevy s-10</td>\n",
       "      <td>1</td>\n",
       "    </tr>\n",
       "  </tbody>\n",
       "</table>\n",
       "</div>"
      ],
      "text/plain": [
       "      mpg  cylinders  displacement  horsepower  weight  acceleration  year  \\\n",
       "387  27.0          4         140.0          86    2790          15.6    82   \n",
       "388  44.0          4          97.0          52    2130          24.6    82   \n",
       "389  32.0          4         135.0          84    2295          11.6    82   \n",
       "390  28.0          4         120.0          79    2625          18.6    82   \n",
       "391  31.0          4         119.0          82    2720          19.4    82   \n",
       "\n",
       "     origin             name  mpg01  \n",
       "387       1  ford mustang gl      1  \n",
       "388       2        vw pickup      1  \n",
       "389       1    dodge rampage      1  \n",
       "390       1      ford ranger      1  \n",
       "391       1       chevy s-10      1  "
      ]
     },
     "execution_count": 78,
     "metadata": {},
     "output_type": "execute_result"
    }
   ],
   "source": [
    "Auto['mpg01'] = [1 if x>median_mileage else 0 for x in Auto['mpg']]\n",
    "Auto.tail(5)"
   ]
  },
  {
   "cell_type": "markdown",
   "id": "7cfee238",
   "metadata": {},
   "source": [
    "# (b)"
   ]
  },
  {
   "cell_type": "code",
   "execution_count": 79,
   "id": "0c45ff40",
   "metadata": {},
   "outputs": [
    {
     "data": {
      "text/plain": [
       "array([[<AxesSubplot:xlabel='mpg', ylabel='mpg'>,\n",
       "        <AxesSubplot:xlabel='cylinders', ylabel='mpg'>,\n",
       "        <AxesSubplot:xlabel='displacement', ylabel='mpg'>,\n",
       "        <AxesSubplot:xlabel='horsepower', ylabel='mpg'>,\n",
       "        <AxesSubplot:xlabel='weight', ylabel='mpg'>,\n",
       "        <AxesSubplot:xlabel='acceleration', ylabel='mpg'>,\n",
       "        <AxesSubplot:xlabel='year', ylabel='mpg'>,\n",
       "        <AxesSubplot:xlabel='origin', ylabel='mpg'>,\n",
       "        <AxesSubplot:xlabel='mpg01', ylabel='mpg'>],\n",
       "       [<AxesSubplot:xlabel='mpg', ylabel='cylinders'>,\n",
       "        <AxesSubplot:xlabel='cylinders', ylabel='cylinders'>,\n",
       "        <AxesSubplot:xlabel='displacement', ylabel='cylinders'>,\n",
       "        <AxesSubplot:xlabel='horsepower', ylabel='cylinders'>,\n",
       "        <AxesSubplot:xlabel='weight', ylabel='cylinders'>,\n",
       "        <AxesSubplot:xlabel='acceleration', ylabel='cylinders'>,\n",
       "        <AxesSubplot:xlabel='year', ylabel='cylinders'>,\n",
       "        <AxesSubplot:xlabel='origin', ylabel='cylinders'>,\n",
       "        <AxesSubplot:xlabel='mpg01', ylabel='cylinders'>],\n",
       "       [<AxesSubplot:xlabel='mpg', ylabel='displacement'>,\n",
       "        <AxesSubplot:xlabel='cylinders', ylabel='displacement'>,\n",
       "        <AxesSubplot:xlabel='displacement', ylabel='displacement'>,\n",
       "        <AxesSubplot:xlabel='horsepower', ylabel='displacement'>,\n",
       "        <AxesSubplot:xlabel='weight', ylabel='displacement'>,\n",
       "        <AxesSubplot:xlabel='acceleration', ylabel='displacement'>,\n",
       "        <AxesSubplot:xlabel='year', ylabel='displacement'>,\n",
       "        <AxesSubplot:xlabel='origin', ylabel='displacement'>,\n",
       "        <AxesSubplot:xlabel='mpg01', ylabel='displacement'>],\n",
       "       [<AxesSubplot:xlabel='mpg', ylabel='horsepower'>,\n",
       "        <AxesSubplot:xlabel='cylinders', ylabel='horsepower'>,\n",
       "        <AxesSubplot:xlabel='displacement', ylabel='horsepower'>,\n",
       "        <AxesSubplot:xlabel='horsepower', ylabel='horsepower'>,\n",
       "        <AxesSubplot:xlabel='weight', ylabel='horsepower'>,\n",
       "        <AxesSubplot:xlabel='acceleration', ylabel='horsepower'>,\n",
       "        <AxesSubplot:xlabel='year', ylabel='horsepower'>,\n",
       "        <AxesSubplot:xlabel='origin', ylabel='horsepower'>,\n",
       "        <AxesSubplot:xlabel='mpg01', ylabel='horsepower'>],\n",
       "       [<AxesSubplot:xlabel='mpg', ylabel='weight'>,\n",
       "        <AxesSubplot:xlabel='cylinders', ylabel='weight'>,\n",
       "        <AxesSubplot:xlabel='displacement', ylabel='weight'>,\n",
       "        <AxesSubplot:xlabel='horsepower', ylabel='weight'>,\n",
       "        <AxesSubplot:xlabel='weight', ylabel='weight'>,\n",
       "        <AxesSubplot:xlabel='acceleration', ylabel='weight'>,\n",
       "        <AxesSubplot:xlabel='year', ylabel='weight'>,\n",
       "        <AxesSubplot:xlabel='origin', ylabel='weight'>,\n",
       "        <AxesSubplot:xlabel='mpg01', ylabel='weight'>],\n",
       "       [<AxesSubplot:xlabel='mpg', ylabel='acceleration'>,\n",
       "        <AxesSubplot:xlabel='cylinders', ylabel='acceleration'>,\n",
       "        <AxesSubplot:xlabel='displacement', ylabel='acceleration'>,\n",
       "        <AxesSubplot:xlabel='horsepower', ylabel='acceleration'>,\n",
       "        <AxesSubplot:xlabel='weight', ylabel='acceleration'>,\n",
       "        <AxesSubplot:xlabel='acceleration', ylabel='acceleration'>,\n",
       "        <AxesSubplot:xlabel='year', ylabel='acceleration'>,\n",
       "        <AxesSubplot:xlabel='origin', ylabel='acceleration'>,\n",
       "        <AxesSubplot:xlabel='mpg01', ylabel='acceleration'>],\n",
       "       [<AxesSubplot:xlabel='mpg', ylabel='year'>,\n",
       "        <AxesSubplot:xlabel='cylinders', ylabel='year'>,\n",
       "        <AxesSubplot:xlabel='displacement', ylabel='year'>,\n",
       "        <AxesSubplot:xlabel='horsepower', ylabel='year'>,\n",
       "        <AxesSubplot:xlabel='weight', ylabel='year'>,\n",
       "        <AxesSubplot:xlabel='acceleration', ylabel='year'>,\n",
       "        <AxesSubplot:xlabel='year', ylabel='year'>,\n",
       "        <AxesSubplot:xlabel='origin', ylabel='year'>,\n",
       "        <AxesSubplot:xlabel='mpg01', ylabel='year'>],\n",
       "       [<AxesSubplot:xlabel='mpg', ylabel='origin'>,\n",
       "        <AxesSubplot:xlabel='cylinders', ylabel='origin'>,\n",
       "        <AxesSubplot:xlabel='displacement', ylabel='origin'>,\n",
       "        <AxesSubplot:xlabel='horsepower', ylabel='origin'>,\n",
       "        <AxesSubplot:xlabel='weight', ylabel='origin'>,\n",
       "        <AxesSubplot:xlabel='acceleration', ylabel='origin'>,\n",
       "        <AxesSubplot:xlabel='year', ylabel='origin'>,\n",
       "        <AxesSubplot:xlabel='origin', ylabel='origin'>,\n",
       "        <AxesSubplot:xlabel='mpg01', ylabel='origin'>],\n",
       "       [<AxesSubplot:xlabel='mpg', ylabel='mpg01'>,\n",
       "        <AxesSubplot:xlabel='cylinders', ylabel='mpg01'>,\n",
       "        <AxesSubplot:xlabel='displacement', ylabel='mpg01'>,\n",
       "        <AxesSubplot:xlabel='horsepower', ylabel='mpg01'>,\n",
       "        <AxesSubplot:xlabel='weight', ylabel='mpg01'>,\n",
       "        <AxesSubplot:xlabel='acceleration', ylabel='mpg01'>,\n",
       "        <AxesSubplot:xlabel='year', ylabel='mpg01'>,\n",
       "        <AxesSubplot:xlabel='origin', ylabel='mpg01'>,\n",
       "        <AxesSubplot:xlabel='mpg01', ylabel='mpg01'>]], dtype=object)"
      ]
     },
     "execution_count": 79,
     "metadata": {},
     "output_type": "execute_result"
    },
    {
     "data": {
      "image/png": "[encoded data removed]",
      "text/plain": [
       "<Figure size 432x288 with 81 Axes>"
      ]
     },
     "metadata": {
      "needs_background": "light"
     },
     "output_type": "display_data"
    }
   ],
   "source": [
    "pd.plotting.scatter_matrix(Auto)"
   ]
  },
  {
   "cell_type": "code",
   "execution_count": 80,
   "id": "c7722b09",
   "metadata": {},
   "outputs": [
    {
     "data": {
      "text/html": [
       "<div>\n",
       "<style scoped>\n",
       "    .dataframe tbody tr th:only-of-type {\n",
       "        vertical-align: middle;\n",
       "    }\n",
       "\n",
       "    .dataframe tbody tr th {\n",
       "        vertical-align: top;\n",
       "    }\n",
       "\n",
       "    .dataframe thead th {\n",
       "        text-align: right;\n",
       "    }\n",
       "</style>\n",
       "<table border=\"1\" class=\"dataframe\">\n",
       "  <thead>\n",
       "    <tr style=\"text-align: right;\">\n",
       "      <th></th>\n",
       "      <th>mpg</th>\n",
       "      <th>year</th>\n",
       "      <th>acceleration</th>\n",
       "      <th>weight</th>\n",
       "      <th>displacement</th>\n",
       "      <th>horsepower</th>\n",
       "      <th>mpg01</th>\n",
       "    </tr>\n",
       "  </thead>\n",
       "  <tbody>\n",
       "    <tr>\n",
       "      <th>0</th>\n",
       "      <td>18.0</td>\n",
       "      <td>70</td>\n",
       "      <td>12.0</td>\n",
       "      <td>3504</td>\n",
       "      <td>307.0</td>\n",
       "      <td>130</td>\n",
       "      <td>0</td>\n",
       "    </tr>\n",
       "    <tr>\n",
       "      <th>1</th>\n",
       "      <td>15.0</td>\n",
       "      <td>70</td>\n",
       "      <td>11.5</td>\n",
       "      <td>3693</td>\n",
       "      <td>350.0</td>\n",
       "      <td>165</td>\n",
       "      <td>0</td>\n",
       "    </tr>\n",
       "    <tr>\n",
       "      <th>2</th>\n",
       "      <td>18.0</td>\n",
       "      <td>70</td>\n",
       "      <td>11.0</td>\n",
       "      <td>3436</td>\n",
       "      <td>318.0</td>\n",
       "      <td>150</td>\n",
       "      <td>0</td>\n",
       "    </tr>\n",
       "    <tr>\n",
       "      <th>3</th>\n",
       "      <td>16.0</td>\n",
       "      <td>70</td>\n",
       "      <td>12.0</td>\n",
       "      <td>3433</td>\n",
       "      <td>304.0</td>\n",
       "      <td>150</td>\n",
       "      <td>0</td>\n",
       "    </tr>\n",
       "    <tr>\n",
       "      <th>4</th>\n",
       "      <td>17.0</td>\n",
       "      <td>70</td>\n",
       "      <td>10.5</td>\n",
       "      <td>3449</td>\n",
       "      <td>302.0</td>\n",
       "      <td>140</td>\n",
       "      <td>0</td>\n",
       "    </tr>\n",
       "  </tbody>\n",
       "</table>\n",
       "</div>"
      ],
      "text/plain": [
       "    mpg  year  acceleration  weight  displacement  horsepower  mpg01\n",
       "0  18.0    70          12.0    3504         307.0         130      0\n",
       "1  15.0    70          11.5    3693         350.0         165      0\n",
       "2  18.0    70          11.0    3436         318.0         150      0\n",
       "3  16.0    70          12.0    3433         304.0         150      0\n",
       "4  17.0    70          10.5    3449         302.0         140      0"
      ]
     },
     "execution_count": 80,
     "metadata": {},
     "output_type": "execute_result"
    }
   ],
   "source": [
    "#dropping name as it is a qualitative variable\n",
    "#dropping cylinder and origin (as they are categorical variables with a small number of categories) from the scatterplot\n",
    "small_auto_df=Auto[['mpg','year', 'acceleration','weight','displacement','horsepower','mpg01']].copy()\n",
    "small_auto_df.head(5)"
   ]
  },
  {
   "cell_type": "code",
   "execution_count": 81,
   "id": "4af40818",
   "metadata": {
    "scrolled": true
   },
   "outputs": [
    {
     "data": {
      "text/plain": [
       "array([[<AxesSubplot:xlabel='mpg', ylabel='mpg'>,\n",
       "        <AxesSubplot:xlabel='year', ylabel='mpg'>,\n",
       "        <AxesSubplot:xlabel='acceleration', ylabel='mpg'>,\n",
       "        <AxesSubplot:xlabel='weight', ylabel='mpg'>,\n",
       "        <AxesSubplot:xlabel='displacement', ylabel='mpg'>,\n",
       "        <AxesSubplot:xlabel='horsepower', ylabel='mpg'>,\n",
       "        <AxesSubplot:xlabel='mpg01', ylabel='mpg'>],\n",
       "       [<AxesSubplot:xlabel='mpg', ylabel='year'>,\n",
       "        <AxesSubplot:xlabel='year', ylabel='year'>,\n",
       "        <AxesSubplot:xlabel='acceleration', ylabel='year'>,\n",
       "        <AxesSubplot:xlabel='weight', ylabel='year'>,\n",
       "        <AxesSubplot:xlabel='displacement', ylabel='year'>,\n",
       "        <AxesSubplot:xlabel='horsepower', ylabel='year'>,\n",
       "        <AxesSubplot:xlabel='mpg01', ylabel='year'>],\n",
       "       [<AxesSubplot:xlabel='mpg', ylabel='acceleration'>,\n",
       "        <AxesSubplot:xlabel='year', ylabel='acceleration'>,\n",
       "        <AxesSubplot:xlabel='acceleration', ylabel='acceleration'>,\n",
       "        <AxesSubplot:xlabel='weight', ylabel='acceleration'>,\n",
       "        <AxesSubplot:xlabel='displacement', ylabel='acceleration'>,\n",
       "        <AxesSubplot:xlabel='horsepower', ylabel='acceleration'>,\n",
       "        <AxesSubplot:xlabel='mpg01', ylabel='acceleration'>],\n",
       "       [<AxesSubplot:xlabel='mpg', ylabel='weight'>,\n",
       "        <AxesSubplot:xlabel='year', ylabel='weight'>,\n",
       "        <AxesSubplot:xlabel='acceleration', ylabel='weight'>,\n",
       "        <AxesSubplot:xlabel='weight', ylabel='weight'>,\n",
       "        <AxesSubplot:xlabel='displacement', ylabel='weight'>,\n",
       "        <AxesSubplot:xlabel='horsepower', ylabel='weight'>,\n",
       "        <AxesSubplot:xlabel='mpg01', ylabel='weight'>],\n",
       "       [<AxesSubplot:xlabel='mpg', ylabel='displacement'>,\n",
       "        <AxesSubplot:xlabel='year', ylabel='displacement'>,\n",
       "        <AxesSubplot:xlabel='acceleration', ylabel='displacement'>,\n",
       "        <AxesSubplot:xlabel='weight', ylabel='displacement'>,\n",
       "        <AxesSubplot:xlabel='displacement', ylabel='displacement'>,\n",
       "        <AxesSubplot:xlabel='horsepower', ylabel='displacement'>,\n",
       "        <AxesSubplot:xlabel='mpg01', ylabel='displacement'>],\n",
       "       [<AxesSubplot:xlabel='mpg', ylabel='horsepower'>,\n",
       "        <AxesSubplot:xlabel='year', ylabel='horsepower'>,\n",
       "        <AxesSubplot:xlabel='acceleration', ylabel='horsepower'>,\n",
       "        <AxesSubplot:xlabel='weight', ylabel='horsepower'>,\n",
       "        <AxesSubplot:xlabel='displacement', ylabel='horsepower'>,\n",
       "        <AxesSubplot:xlabel='horsepower', ylabel='horsepower'>,\n",
       "        <AxesSubplot:xlabel='mpg01', ylabel='horsepower'>],\n",
       "       [<AxesSubplot:xlabel='mpg', ylabel='mpg01'>,\n",
       "        <AxesSubplot:xlabel='year', ylabel='mpg01'>,\n",
       "        <AxesSubplot:xlabel='acceleration', ylabel='mpg01'>,\n",
       "        <AxesSubplot:xlabel='weight', ylabel='mpg01'>,\n",
       "        <AxesSubplot:xlabel='displacement', ylabel='mpg01'>,\n",
       "        <AxesSubplot:xlabel='horsepower', ylabel='mpg01'>,\n",
       "        <AxesSubplot:xlabel='mpg01', ylabel='mpg01'>]], dtype=object)"
      ]
     },
     "execution_count": 81,
     "metadata": {},
     "output_type": "execute_result"
    },
    {
     "data": {
      "image/png": "[encoded data removed]",
      "text/plain": [
       "<Figure size 432x288 with 49 Axes>"
      ]
     },
     "metadata": {
      "needs_background": "light"
     },
     "output_type": "display_data"
    }
   ],
   "source": [
    "pd.plotting.scatter_matrix(small_auto_df)"
   ]
  },
  {
   "cell_type": "code",
   "execution_count": 82,
   "id": "466ccf8b",
   "metadata": {},
   "outputs": [
    {
     "data": {
      "image/png": "[encoded data removed]",
      "text/plain": [
       "<Figure size 432x432 with 1 Axes>"
      ]
     },
     "metadata": {
      "needs_background": "light"
     },
     "output_type": "display_data"
    }
   ],
   "source": [
    "#import subplots from matplotlib.pyplot \n",
    "#plotting mpg vs cylinders as a boxplot and origin as the number of categories is small\n",
    "import matplotlib.pyplot as plt\n",
    "\n",
    "fig, ax = plt.subplots(figsize=(6, 6))\n",
    "Auto.boxplot('mpg01', by='cylinders', ax=ax);"
   ]
  },
  {
   "cell_type": "code",
   "execution_count": 83,
   "id": "b444fbf9",
   "metadata": {},
   "outputs": [
    {
     "data": {
      "image/png": "[encoded data removed]",
      "text/plain": [
       "<Figure size 432x432 with 1 Axes>"
      ]
     },
     "metadata": {
      "needs_background": "light"
     },
     "output_type": "display_data"
    }
   ],
   "source": [
    "import matplotlib.pyplot as plt\n",
    "\n",
    "fig, ax = plt.subplots(figsize=(6, 6))\n",
    "Auto.boxplot('mpg01', by='origin', ax=ax);"
   ]
  },
  {
   "cell_type": "markdown",
   "id": "d6747a84",
   "metadata": {},
   "source": [
    "# (c)"
   ]
  },
  {
   "cell_type": "code",
   "execution_count": 84,
   "id": "3a51c26e",
   "metadata": {},
   "outputs": [],
   "source": [
    "#creating test set with 30 percent of the dataset\n",
    "from sklearn.model_selection import train_test_split\n",
    "#not using name\n",
    "#splitting into features and labels, not using mpg as a predictor as it can be considered 'cheating' and year, origin and cylinders as well since there seems to be no relationship in the scatterplot\n",
    "X = Auto[[ 'acceleration','weight','displacement','horsepower']]\n",
    "y = Auto['mpg01']\n",
    " \n",
    "# split the dataset\n",
    "X_train, X_test, y_train, y_test = train_test_split(\n",
    "    X, y, test_size=0.3, random_state=0)"
   ]
  },
  {
   "cell_type": "code",
   "execution_count": 85,
   "id": "e5f126c3",
   "metadata": {},
   "outputs": [
    {
     "data": {
      "text/html": [
       "<div>\n",
       "<style scoped>\n",
       "    .dataframe tbody tr th:only-of-type {\n",
       "        vertical-align: middle;\n",
       "    }\n",
       "\n",
       "    .dataframe tbody tr th {\n",
       "        vertical-align: top;\n",
       "    }\n",
       "\n",
       "    .dataframe thead th {\n",
       "        text-align: right;\n",
       "    }\n",
       "</style>\n",
       "<table border=\"1\" class=\"dataframe\">\n",
       "  <thead>\n",
       "    <tr style=\"text-align: right;\">\n",
       "      <th></th>\n",
       "      <th>acceleration</th>\n",
       "      <th>weight</th>\n",
       "      <th>displacement</th>\n",
       "      <th>horsepower</th>\n",
       "    </tr>\n",
       "  </thead>\n",
       "  <tbody>\n",
       "    <tr>\n",
       "      <th>391</th>\n",
       "      <td>19.4</td>\n",
       "      <td>2720</td>\n",
       "      <td>119.0</td>\n",
       "      <td>82</td>\n",
       "    </tr>\n",
       "    <tr>\n",
       "      <th>158</th>\n",
       "      <td>21.0</td>\n",
       "      <td>3907</td>\n",
       "      <td>231.0</td>\n",
       "      <td>110</td>\n",
       "    </tr>\n",
       "    <tr>\n",
       "      <th>141</th>\n",
       "      <td>14.5</td>\n",
       "      <td>2300</td>\n",
       "      <td>97.0</td>\n",
       "      <td>78</td>\n",
       "    </tr>\n",
       "    <tr>\n",
       "      <th>342</th>\n",
       "      <td>17.8</td>\n",
       "      <td>2065</td>\n",
       "      <td>97.0</td>\n",
       "      <td>67</td>\n",
       "    </tr>\n",
       "    <tr>\n",
       "      <th>66</th>\n",
       "      <td>11.0</td>\n",
       "      <td>4633</td>\n",
       "      <td>429.0</td>\n",
       "      <td>208</td>\n",
       "    </tr>\n",
       "    <tr>\n",
       "      <th>...</th>\n",
       "      <td>...</td>\n",
       "      <td>...</td>\n",
       "      <td>...</td>\n",
       "      <td>...</td>\n",
       "    </tr>\n",
       "    <tr>\n",
       "      <th>323</th>\n",
       "      <td>21.7</td>\n",
       "      <td>2085</td>\n",
       "      <td>90.0</td>\n",
       "      <td>48</td>\n",
       "    </tr>\n",
       "    <tr>\n",
       "      <th>192</th>\n",
       "      <td>17.6</td>\n",
       "      <td>3085</td>\n",
       "      <td>232.0</td>\n",
       "      <td>90</td>\n",
       "    </tr>\n",
       "    <tr>\n",
       "      <th>117</th>\n",
       "      <td>15.5</td>\n",
       "      <td>2158</td>\n",
       "      <td>116.0</td>\n",
       "      <td>75</td>\n",
       "    </tr>\n",
       "    <tr>\n",
       "      <th>47</th>\n",
       "      <td>14.5</td>\n",
       "      <td>3139</td>\n",
       "      <td>250.0</td>\n",
       "      <td>88</td>\n",
       "    </tr>\n",
       "    <tr>\n",
       "      <th>172</th>\n",
       "      <td>14.5</td>\n",
       "      <td>2984</td>\n",
       "      <td>171.0</td>\n",
       "      <td>97</td>\n",
       "    </tr>\n",
       "  </tbody>\n",
       "</table>\n",
       "<p>274 rows × 4 columns</p>\n",
       "</div>"
      ],
      "text/plain": [
       "     acceleration  weight  displacement  horsepower\n",
       "391          19.4    2720         119.0          82\n",
       "158          21.0    3907         231.0         110\n",
       "141          14.5    2300          97.0          78\n",
       "342          17.8    2065          97.0          67\n",
       "66           11.0    4633         429.0         208\n",
       "..            ...     ...           ...         ...\n",
       "323          21.7    2085          90.0          48\n",
       "192          17.6    3085         232.0          90\n",
       "117          15.5    2158         116.0          75\n",
       "47           14.5    3139         250.0          88\n",
       "172          14.5    2984         171.0          97\n",
       "\n",
       "[274 rows x 4 columns]"
      ]
     },
     "execution_count": 85,
     "metadata": {},
     "output_type": "execute_result"
    }
   ],
   "source": [
    "X_train"
   ]
  },
  {
   "cell_type": "code",
   "execution_count": 86,
   "id": "81b56adb",
   "metadata": {},
   "outputs": [
    {
     "data": {
      "text/html": [
       "<div>\n",
       "<style scoped>\n",
       "    .dataframe tbody tr th:only-of-type {\n",
       "        vertical-align: middle;\n",
       "    }\n",
       "\n",
       "    .dataframe tbody tr th {\n",
       "        vertical-align: top;\n",
       "    }\n",
       "\n",
       "    .dataframe thead th {\n",
       "        text-align: right;\n",
       "    }\n",
       "</style>\n",
       "<table border=\"1\" class=\"dataframe\">\n",
       "  <thead>\n",
       "    <tr style=\"text-align: right;\">\n",
       "      <th></th>\n",
       "      <th>acceleration</th>\n",
       "      <th>weight</th>\n",
       "      <th>displacement</th>\n",
       "      <th>horsepower</th>\n",
       "    </tr>\n",
       "  </thead>\n",
       "  <tbody>\n",
       "    <tr>\n",
       "      <th>144</th>\n",
       "      <td>14.5</td>\n",
       "      <td>2125</td>\n",
       "      <td>90.0</td>\n",
       "      <td>75</td>\n",
       "    </tr>\n",
       "    <tr>\n",
       "      <th>280</th>\n",
       "      <td>17.3</td>\n",
       "      <td>2890</td>\n",
       "      <td>140.0</td>\n",
       "      <td>88</td>\n",
       "    </tr>\n",
       "    <tr>\n",
       "      <th>68</th>\n",
       "      <td>13.5</td>\n",
       "      <td>4456</td>\n",
       "      <td>350.0</td>\n",
       "      <td>160</td>\n",
       "    </tr>\n",
       "    <tr>\n",
       "      <th>372</th>\n",
       "      <td>14.7</td>\n",
       "      <td>2125</td>\n",
       "      <td>105.0</td>\n",
       "      <td>63</td>\n",
       "    </tr>\n",
       "    <tr>\n",
       "      <th>328</th>\n",
       "      <td>18.0</td>\n",
       "      <td>2145</td>\n",
       "      <td>97.0</td>\n",
       "      <td>67</td>\n",
       "    </tr>\n",
       "    <tr>\n",
       "      <th>...</th>\n",
       "      <td>...</td>\n",
       "      <td>...</td>\n",
       "      <td>...</td>\n",
       "      <td>...</td>\n",
       "    </tr>\n",
       "    <tr>\n",
       "      <th>289</th>\n",
       "      <td>15.0</td>\n",
       "      <td>3605</td>\n",
       "      <td>267.0</td>\n",
       "      <td>125</td>\n",
       "    </tr>\n",
       "    <tr>\n",
       "      <th>382</th>\n",
       "      <td>14.5</td>\n",
       "      <td>2585</td>\n",
       "      <td>156.0</td>\n",
       "      <td>92</td>\n",
       "    </tr>\n",
       "    <tr>\n",
       "      <th>22</th>\n",
       "      <td>17.5</td>\n",
       "      <td>2375</td>\n",
       "      <td>104.0</td>\n",
       "      <td>95</td>\n",
       "    </tr>\n",
       "    <tr>\n",
       "      <th>386</th>\n",
       "      <td>17.3</td>\n",
       "      <td>2950</td>\n",
       "      <td>151.0</td>\n",
       "      <td>90</td>\n",
       "    </tr>\n",
       "    <tr>\n",
       "      <th>200</th>\n",
       "      <td>17.8</td>\n",
       "      <td>3193</td>\n",
       "      <td>258.0</td>\n",
       "      <td>95</td>\n",
       "    </tr>\n",
       "  </tbody>\n",
       "</table>\n",
       "<p>118 rows × 4 columns</p>\n",
       "</div>"
      ],
      "text/plain": [
       "     acceleration  weight  displacement  horsepower\n",
       "144          14.5    2125          90.0          75\n",
       "280          17.3    2890         140.0          88\n",
       "68           13.5    4456         350.0         160\n",
       "372          14.7    2125         105.0          63\n",
       "328          18.0    2145          97.0          67\n",
       "..            ...     ...           ...         ...\n",
       "289          15.0    3605         267.0         125\n",
       "382          14.5    2585         156.0          92\n",
       "22           17.5    2375         104.0          95\n",
       "386          17.3    2950         151.0          90\n",
       "200          17.8    3193         258.0          95\n",
       "\n",
       "[118 rows x 4 columns]"
      ]
     },
     "execution_count": 86,
     "metadata": {},
     "output_type": "execute_result"
    }
   ],
   "source": [
    "X_test"
   ]
  },
  {
   "cell_type": "code",
   "execution_count": 87,
   "id": "91dfc8d0",
   "metadata": {},
   "outputs": [
    {
     "data": {
      "text/plain": [
       "391    1\n",
       "158    0\n",
       "141    1\n",
       "342    1\n",
       "66     0\n",
       "      ..\n",
       "323    1\n",
       "192    0\n",
       "117    1\n",
       "47     0\n",
       "172    0\n",
       "Name: mpg01, Length: 274, dtype: int64"
      ]
     },
     "execution_count": 87,
     "metadata": {},
     "output_type": "execute_result"
    }
   ],
   "source": [
    "y_train"
   ]
  },
  {
   "cell_type": "code",
   "execution_count": 88,
   "id": "e610ec7e",
   "metadata": {},
   "outputs": [
    {
     "data": {
      "text/plain": [
       "144    1\n",
       "280    0\n",
       "68     0\n",
       "372    1\n",
       "328    1\n",
       "      ..\n",
       "289    0\n",
       "382    1\n",
       "22     1\n",
       "386    1\n",
       "200    0\n",
       "Name: mpg01, Length: 118, dtype: int64"
      ]
     },
     "execution_count": 88,
     "metadata": {},
     "output_type": "execute_result"
    }
   ],
   "source": [
    "y_test"
   ]
  },
  {
   "cell_type": "code",
   "execution_count": 89,
   "id": "0f3def6d",
   "metadata": {},
   "outputs": [
    {
     "name": "stdout",
     "output_type": "stream",
     "text": [
      "0.3010204081632653\n"
     ]
    }
   ],
   "source": [
    "#calculating proportion of test samples to cross check\n",
    "print(118/(118+274))"
   ]
  },
  {
   "cell_type": "markdown",
   "id": "b1ddfdb9",
   "metadata": {},
   "source": [
    "# (d)"
   ]
  },
  {
   "cell_type": "code",
   "execution_count": 90,
   "id": "09be03a7",
   "metadata": {},
   "outputs": [],
   "source": [
    "#LDA model\n",
    "lda = LDA(store_covariance=True)"
   ]
  },
  {
   "cell_type": "code",
   "execution_count": 91,
   "id": "7f0a83b0",
   "metadata": {},
   "outputs": [
    {
     "data": {
      "text/html": [
       "<style>#sk-container-id-3 {color: black;}#sk-container-id-3 pre{padding: 0;}#sk-container-id-3 div.sk-toggleable {background-color: white;}#sk-container-id-3 label.sk-toggleable__label {cursor: pointer;display: block;width: 100%;margin-bottom: 0;padding: 0.3em;box-sizing: border-box;text-align: center;}#sk-container-id-3 label.sk-toggleable__label-arrow:before {content: \"▸\";float: left;margin-right: 0.25em;color: #696969;}#sk-container-id-3 label.sk-toggleable__label-arrow:hover:before {color: black;}#sk-container-id-3 div.sk-estimator:hover label.sk-toggleable__label-arrow:before {color: black;}#sk-container-id-3 div.sk-toggleable__content {max-height: 0;max-width: 0;overflow: hidden;text-align: left;background-color: #f0f8ff;}#sk-container-id-3 div.sk-toggleable__content pre {margin: 0.2em;color: black;border-radius: 0.25em;background-color: #f0f8ff;}#sk-container-id-3 input.sk-toggleable__control:checked~div.sk-toggleable__content {max-height: 200px;max-width: 100%;overflow: auto;}#sk-container-id-3 input.sk-toggleable__control:checked~label.sk-toggleable__label-arrow:before {content: \"▾\";}#sk-container-id-3 div.sk-estimator input.sk-toggleable__control:checked~label.sk-toggleable__label {background-color: #d4ebff;}#sk-container-id-3 div.sk-label input.sk-toggleable__control:checked~label.sk-toggleable__label {background-color: #d4ebff;}#sk-container-id-3 input.sk-hidden--visually {border: 0;clip: rect(1px 1px 1px 1px);clip: rect(1px, 1px, 1px, 1px);height: 1px;margin: -1px;overflow: hidden;padding: 0;position: absolute;width: 1px;}#sk-container-id-3 div.sk-estimator {font-family: monospace;background-color: #f0f8ff;border: 1px dotted black;border-radius: 0.25em;box-sizing: border-box;margin-bottom: 0.5em;}#sk-container-id-3 div.sk-estimator:hover {background-color: #d4ebff;}#sk-container-id-3 div.sk-parallel-item::after {content: \"\";width: 100%;border-bottom: 1px solid gray;flex-grow: 1;}#sk-container-id-3 div.sk-label:hover label.sk-toggleable__label {background-color: #d4ebff;}#sk-container-id-3 div.sk-serial::before {content: \"\";position: absolute;border-left: 1px solid gray;box-sizing: border-box;top: 0;bottom: 0;left: 50%;z-index: 0;}#sk-container-id-3 div.sk-serial {display: flex;flex-direction: column;align-items: center;background-color: white;padding-right: 0.2em;padding-left: 0.2em;position: relative;}#sk-container-id-3 div.sk-item {position: relative;z-index: 1;}#sk-container-id-3 div.sk-parallel {display: flex;align-items: stretch;justify-content: center;background-color: white;position: relative;}#sk-container-id-3 div.sk-item::before, #sk-container-id-3 div.sk-parallel-item::before {content: \"\";position: absolute;border-left: 1px solid gray;box-sizing: border-box;top: 0;bottom: 0;left: 50%;z-index: -1;}#sk-container-id-3 div.sk-parallel-item {display: flex;flex-direction: column;z-index: 1;position: relative;background-color: white;}#sk-container-id-3 div.sk-parallel-item:first-child::after {align-self: flex-end;width: 50%;}#sk-container-id-3 div.sk-parallel-item:last-child::after {align-self: flex-start;width: 50%;}#sk-container-id-3 div.sk-parallel-item:only-child::after {width: 0;}#sk-container-id-3 div.sk-dashed-wrapped {border: 1px dashed gray;margin: 0 0.4em 0.5em 0.4em;box-sizing: border-box;padding-bottom: 0.4em;background-color: white;}#sk-container-id-3 div.sk-label label {font-family: monospace;font-weight: bold;display: inline-block;line-height: 1.2em;}#sk-container-id-3 div.sk-label-container {text-align: center;}#sk-container-id-3 div.sk-container {/* jupyter's `normalize.less` sets `[hidden] { display: none; }` but bootstrap.min.css set `[hidden] { display: none !important; }` so we also need the `!important` here to be able to override the default hidden behavior on the sphinx rendered scikit-learn.org. See: https://github.com/scikit-learn/scikit-learn/issues/21755 */display: inline-block !important;position: relative;}#sk-container-id-3 div.sk-text-repr-fallback {display: none;}</style><div id=\"sk-container-id-3\" class=\"sk-top-container\"><div class=\"sk-text-repr-fallback\"><pre>LinearDiscriminantAnalysis(store_covariance=True)</pre><b>In a Jupyter environment, please rerun this cell to show the HTML representation or trust the notebook. <br />On GitHub, the HTML representation is unable to render, please try loading this page with nbviewer.org.</b></div><div class=\"sk-container\" hidden><div class=\"sk-item\"><div class=\"sk-estimator sk-toggleable\"><input class=\"sk-toggleable__control sk-hidden--visually\" id=\"sk-estimator-id-3\" type=\"checkbox\" checked><label for=\"sk-estimator-id-3\" class=\"sk-toggleable__label sk-toggleable__label-arrow\">LinearDiscriminantAnalysis</label><div class=\"sk-toggleable__content\"><pre>LinearDiscriminantAnalysis(store_covariance=True)</pre></div></div></div></div></div>"
      ],
      "text/plain": [
       "LinearDiscriminantAnalysis(store_covariance=True)"
      ]
     },
     "execution_count": 91,
     "metadata": {},
     "output_type": "execute_result"
    }
   ],
   "source": [
    "lda.fit(X_train,y_train)"
   ]
  },
  {
   "cell_type": "code",
   "execution_count": 92,
   "id": "5aa6d9f5",
   "metadata": {},
   "outputs": [],
   "source": [
    "lda_pred = lda.predict(X_test)"
   ]
  },
  {
   "cell_type": "code",
   "execution_count": 93,
   "id": "2ed7dead",
   "metadata": {},
   "outputs": [
    {
     "data": {
      "text/html": [
       "<div>\n",
       "<style scoped>\n",
       "    .dataframe tbody tr th:only-of-type {\n",
       "        vertical-align: middle;\n",
       "    }\n",
       "\n",
       "    .dataframe tbody tr th {\n",
       "        vertical-align: top;\n",
       "    }\n",
       "\n",
       "    .dataframe thead th {\n",
       "        text-align: right;\n",
       "    }\n",
       "</style>\n",
       "<table border=\"1\" class=\"dataframe\">\n",
       "  <thead>\n",
       "    <tr style=\"text-align: right;\">\n",
       "      <th>Truth</th>\n",
       "      <th>0</th>\n",
       "      <th>1</th>\n",
       "    </tr>\n",
       "    <tr>\n",
       "      <th>Predicted</th>\n",
       "      <th></th>\n",
       "      <th></th>\n",
       "    </tr>\n",
       "  </thead>\n",
       "  <tbody>\n",
       "    <tr>\n",
       "      <th>0</th>\n",
       "      <td>44</td>\n",
       "      <td>6</td>\n",
       "    </tr>\n",
       "    <tr>\n",
       "      <th>1</th>\n",
       "      <td>10</td>\n",
       "      <td>58</td>\n",
       "    </tr>\n",
       "  </tbody>\n",
       "</table>\n",
       "</div>"
      ],
      "text/plain": [
       "Truth       0   1\n",
       "Predicted        \n",
       "0          44   6\n",
       "1          10  58"
      ]
     },
     "execution_count": 93,
     "metadata": {},
     "output_type": "execute_result"
    }
   ],
   "source": [
    "confusion_table(lda_pred, y_test)"
   ]
  },
  {
   "cell_type": "code",
   "execution_count": 94,
   "id": "d7891bea",
   "metadata": {},
   "outputs": [
    {
     "name": "stdout",
     "output_type": "stream",
     "text": [
      "overall fraction of correct predictions using LDA= 0.864406779661017\n"
     ]
    }
   ],
   "source": [
    "print(\"overall fraction of correct predictions using LDA=\",(44+58)/(44+10+6+58))"
   ]
  },
  {
   "cell_type": "code",
   "execution_count": 95,
   "id": "948247ee",
   "metadata": {},
   "outputs": [
    {
     "name": "stdout",
     "output_type": "stream",
     "text": [
      "Classification Report:               precision    recall  f1-score   support\n",
      "\n",
      "           0       0.88      0.81      0.85        54\n",
      "           1       0.85      0.91      0.88        64\n",
      "\n",
      "    accuracy                           0.86       118\n",
      "   macro avg       0.87      0.86      0.86       118\n",
      "weighted avg       0.87      0.86      0.86       118\n",
      "\n"
     ]
    }
   ],
   "source": [
    "result = metrics.classification_report(y_test, lda_pred)\n",
    "print(\"Classification Report:\",result)"
   ]
  },
  {
   "cell_type": "markdown",
   "id": "a205d725",
   "metadata": {},
   "source": [
    "# (e)"
   ]
  },
  {
   "cell_type": "code",
   "execution_count": 96,
   "id": "f5200391",
   "metadata": {},
   "outputs": [
    {
     "data": {
      "text/html": [
       "<style>#sk-container-id-4 {color: black;}#sk-container-id-4 pre{padding: 0;}#sk-container-id-4 div.sk-toggleable {background-color: white;}#sk-container-id-4 label.sk-toggleable__label {cursor: pointer;display: block;width: 100%;margin-bottom: 0;padding: 0.3em;box-sizing: border-box;text-align: center;}#sk-container-id-4 label.sk-toggleable__label-arrow:before {content: \"▸\";float: left;margin-right: 0.25em;color: #696969;}#sk-container-id-4 label.sk-toggleable__label-arrow:hover:before {color: black;}#sk-container-id-4 div.sk-estimator:hover label.sk-toggleable__label-arrow:before {color: black;}#sk-container-id-4 div.sk-toggleable__content {max-height: 0;max-width: 0;overflow: hidden;text-align: left;background-color: #f0f8ff;}#sk-container-id-4 div.sk-toggleable__content pre {margin: 0.2em;color: black;border-radius: 0.25em;background-color: #f0f8ff;}#sk-container-id-4 input.sk-toggleable__control:checked~div.sk-toggleable__content {max-height: 200px;max-width: 100%;overflow: auto;}#sk-container-id-4 input.sk-toggleable__control:checked~label.sk-toggleable__label-arrow:before {content: \"▾\";}#sk-container-id-4 div.sk-estimator input.sk-toggleable__control:checked~label.sk-toggleable__label {background-color: #d4ebff;}#sk-container-id-4 div.sk-label input.sk-toggleable__control:checked~label.sk-toggleable__label {background-color: #d4ebff;}#sk-container-id-4 input.sk-hidden--visually {border: 0;clip: rect(1px 1px 1px 1px);clip: rect(1px, 1px, 1px, 1px);height: 1px;margin: -1px;overflow: hidden;padding: 0;position: absolute;width: 1px;}#sk-container-id-4 div.sk-estimator {font-family: monospace;background-color: #f0f8ff;border: 1px dotted black;border-radius: 0.25em;box-sizing: border-box;margin-bottom: 0.5em;}#sk-container-id-4 div.sk-estimator:hover {background-color: #d4ebff;}#sk-container-id-4 div.sk-parallel-item::after {content: \"\";width: 100%;border-bottom: 1px solid gray;flex-grow: 1;}#sk-container-id-4 div.sk-label:hover label.sk-toggleable__label {background-color: #d4ebff;}#sk-container-id-4 div.sk-serial::before {content: \"\";position: absolute;border-left: 1px solid gray;box-sizing: border-box;top: 0;bottom: 0;left: 50%;z-index: 0;}#sk-container-id-4 div.sk-serial {display: flex;flex-direction: column;align-items: center;background-color: white;padding-right: 0.2em;padding-left: 0.2em;position: relative;}#sk-container-id-4 div.sk-item {position: relative;z-index: 1;}#sk-container-id-4 div.sk-parallel {display: flex;align-items: stretch;justify-content: center;background-color: white;position: relative;}#sk-container-id-4 div.sk-item::before, #sk-container-id-4 div.sk-parallel-item::before {content: \"\";position: absolute;border-left: 1px solid gray;box-sizing: border-box;top: 0;bottom: 0;left: 50%;z-index: -1;}#sk-container-id-4 div.sk-parallel-item {display: flex;flex-direction: column;z-index: 1;position: relative;background-color: white;}#sk-container-id-4 div.sk-parallel-item:first-child::after {align-self: flex-end;width: 50%;}#sk-container-id-4 div.sk-parallel-item:last-child::after {align-self: flex-start;width: 50%;}#sk-container-id-4 div.sk-parallel-item:only-child::after {width: 0;}#sk-container-id-4 div.sk-dashed-wrapped {border: 1px dashed gray;margin: 0 0.4em 0.5em 0.4em;box-sizing: border-box;padding-bottom: 0.4em;background-color: white;}#sk-container-id-4 div.sk-label label {font-family: monospace;font-weight: bold;display: inline-block;line-height: 1.2em;}#sk-container-id-4 div.sk-label-container {text-align: center;}#sk-container-id-4 div.sk-container {/* jupyter's `normalize.less` sets `[hidden] { display: none; }` but bootstrap.min.css set `[hidden] { display: none !important; }` so we also need the `!important` here to be able to override the default hidden behavior on the sphinx rendered scikit-learn.org. See: https://github.com/scikit-learn/scikit-learn/issues/21755 */display: inline-block !important;position: relative;}#sk-container-id-4 div.sk-text-repr-fallback {display: none;}</style><div id=\"sk-container-id-4\" class=\"sk-top-container\"><div class=\"sk-text-repr-fallback\"><pre>QuadraticDiscriminantAnalysis(store_covariance=True)</pre><b>In a Jupyter environment, please rerun this cell to show the HTML representation or trust the notebook. <br />On GitHub, the HTML representation is unable to render, please try loading this page with nbviewer.org.</b></div><div class=\"sk-container\" hidden><div class=\"sk-item\"><div class=\"sk-estimator sk-toggleable\"><input class=\"sk-toggleable__control sk-hidden--visually\" id=\"sk-estimator-id-4\" type=\"checkbox\" checked><label for=\"sk-estimator-id-4\" class=\"sk-toggleable__label sk-toggleable__label-arrow\">QuadraticDiscriminantAnalysis</label><div class=\"sk-toggleable__content\"><pre>QuadraticDiscriminantAnalysis(store_covariance=True)</pre></div></div></div></div></div>"
      ],
      "text/plain": [
       "QuadraticDiscriminantAnalysis(store_covariance=True)"
      ]
     },
     "execution_count": 96,
     "metadata": {},
     "output_type": "execute_result"
    }
   ],
   "source": [
    "qda = QDA(store_covariance=True)\n",
    "qda.fit(X_train, y_train)"
   ]
  },
  {
   "cell_type": "code",
   "execution_count": 97,
   "id": "54d95210",
   "metadata": {},
   "outputs": [
    {
     "data": {
      "text/html": [
       "<div>\n",
       "<style scoped>\n",
       "    .dataframe tbody tr th:only-of-type {\n",
       "        vertical-align: middle;\n",
       "    }\n",
       "\n",
       "    .dataframe tbody tr th {\n",
       "        vertical-align: top;\n",
       "    }\n",
       "\n",
       "    .dataframe thead th {\n",
       "        text-align: right;\n",
       "    }\n",
       "</style>\n",
       "<table border=\"1\" class=\"dataframe\">\n",
       "  <thead>\n",
       "    <tr style=\"text-align: right;\">\n",
       "      <th>Truth</th>\n",
       "      <th>0</th>\n",
       "      <th>1</th>\n",
       "    </tr>\n",
       "    <tr>\n",
       "      <th>Predicted</th>\n",
       "      <th></th>\n",
       "      <th></th>\n",
       "    </tr>\n",
       "  </thead>\n",
       "  <tbody>\n",
       "    <tr>\n",
       "      <th>0</th>\n",
       "      <td>45</td>\n",
       "      <td>8</td>\n",
       "    </tr>\n",
       "    <tr>\n",
       "      <th>1</th>\n",
       "      <td>9</td>\n",
       "      <td>56</td>\n",
       "    </tr>\n",
       "  </tbody>\n",
       "</table>\n",
       "</div>"
      ],
      "text/plain": [
       "Truth       0   1\n",
       "Predicted        \n",
       "0          45   8\n",
       "1           9  56"
      ]
     },
     "execution_count": 97,
     "metadata": {},
     "output_type": "execute_result"
    }
   ],
   "source": [
    "qda_pred = qda.predict(X_test)\n",
    "confusion_table(qda_pred, y_test)"
   ]
  },
  {
   "cell_type": "code",
   "execution_count": 98,
   "id": "916fc578",
   "metadata": {},
   "outputs": [
    {
     "name": "stdout",
     "output_type": "stream",
     "text": [
      "overall fraction of correct predictions using QDA= 0.8559322033898306\n"
     ]
    }
   ],
   "source": [
    "print(\"overall fraction of correct predictions using QDA=\",(45+56)/(44+10+6+58))"
   ]
  },
  {
   "cell_type": "code",
   "execution_count": 99,
   "id": "9ea4ed38",
   "metadata": {},
   "outputs": [
    {
     "name": "stdout",
     "output_type": "stream",
     "text": [
      "Classification Report:               precision    recall  f1-score   support\n",
      "\n",
      "           0       0.85      0.83      0.84        54\n",
      "           1       0.86      0.88      0.87        64\n",
      "\n",
      "    accuracy                           0.86       118\n",
      "   macro avg       0.86      0.85      0.85       118\n",
      "weighted avg       0.86      0.86      0.86       118\n",
      "\n"
     ]
    }
   ],
   "source": [
    "result = metrics.classification_report(y_test, qda_pred)\n",
    "print(\"Classification Report:\",result)"
   ]
  },
  {
   "cell_type": "markdown",
   "id": "5b45ab8d",
   "metadata": {},
   "source": [
    "# (f)"
   ]
  },
  {
   "cell_type": "code",
   "execution_count": 100,
   "id": "c70eb017",
   "metadata": {},
   "outputs": [],
   "source": [
    "glm_train = sm.GLM(y_train,\n",
    "                  X_train,\n",
    "                  family=sm.families.Binomial())\n",
    "results = glm_train.fit()"
   ]
  },
  {
   "cell_type": "code",
   "execution_count": 101,
   "id": "14891f6f",
   "metadata": {},
   "outputs": [
    {
     "data": {
      "text/html": [
       "<div>\n",
       "<style scoped>\n",
       "    .dataframe tbody tr th:only-of-type {\n",
       "        vertical-align: middle;\n",
       "    }\n",
       "\n",
       "    .dataframe tbody tr th {\n",
       "        vertical-align: top;\n",
       "    }\n",
       "\n",
       "    .dataframe thead th {\n",
       "        text-align: right;\n",
       "    }\n",
       "</style>\n",
       "<table border=\"1\" class=\"dataframe\">\n",
       "  <thead>\n",
       "    <tr style=\"text-align: right;\">\n",
       "      <th>Truth</th>\n",
       "      <th>0</th>\n",
       "      <th>1</th>\n",
       "    </tr>\n",
       "    <tr>\n",
       "      <th>Predicted</th>\n",
       "      <th></th>\n",
       "      <th></th>\n",
       "    </tr>\n",
       "  </thead>\n",
       "  <tbody>\n",
       "    <tr>\n",
       "      <th>0</th>\n",
       "      <td>44</td>\n",
       "      <td>7</td>\n",
       "    </tr>\n",
       "    <tr>\n",
       "      <th>1</th>\n",
       "      <td>10</td>\n",
       "      <td>57</td>\n",
       "    </tr>\n",
       "  </tbody>\n",
       "</table>\n",
       "</div>"
      ],
      "text/plain": [
       "Truth       0   1\n",
       "Predicted        \n",
       "0          44   7\n",
       "1          10  57"
      ]
     },
     "execution_count": 101,
     "metadata": {},
     "output_type": "execute_result"
    }
   ],
   "source": [
    "#confusion matrix for test data\n",
    "probs = results.predict(exog=X_test)\n",
    "labels = np.array([0]*118)\n",
    "labels[probs >0.5] = 1\n",
    "confusion_table(labels, y_test)"
   ]
  },
  {
   "cell_type": "code",
   "execution_count": 102,
   "id": "b6aee78b",
   "metadata": {},
   "outputs": [
    {
     "name": "stdout",
     "output_type": "stream",
     "text": [
      "overall fraction of correct predictions using logistic regression= 0.8559322033898306\n"
     ]
    }
   ],
   "source": [
    "print(\"overall fraction of correct predictions using logistic regression=\",(44+57)/(44+10+6+58))"
   ]
  },
  {
   "cell_type": "code",
   "execution_count": 103,
   "id": "c4126500",
   "metadata": {},
   "outputs": [
    {
     "name": "stdout",
     "output_type": "stream",
     "text": [
      "Classification Report:               precision    recall  f1-score   support\n",
      "\n",
      "           0       0.86      0.81      0.84        54\n",
      "           1       0.85      0.89      0.87        64\n",
      "\n",
      "    accuracy                           0.86       118\n",
      "   macro avg       0.86      0.85      0.85       118\n",
      "weighted avg       0.86      0.86      0.86       118\n",
      "\n"
     ]
    }
   ],
   "source": [
    "result = metrics.classification_report(y_test, labels)\n",
    "print(\"Classification Report:\",result)"
   ]
  },
  {
   "cell_type": "markdown",
   "id": "92581a13",
   "metadata": {},
   "source": [
    "# (h)"
   ]
  },
  {
   "cell_type": "code",
   "execution_count": 104,
   "id": "125d7c50",
   "metadata": {},
   "outputs": [
    {
     "name": "stdout",
     "output_type": "stream",
     "text": [
      "(274, 4)\n",
      "(118, 4)\n"
     ]
    }
   ],
   "source": [
    "#scaling data as kNN is distance based\n",
    "\n",
    "scaler = StandardScaler()\n",
    "scaler.fit(X_train)\n",
    "X_train_scaled = scaler.transform(X_train)\n",
    "X_test_scaled = scaler.transform(X_test)\n",
    "\n",
    "print(X_train_scaled.shape)\n",
    "print(X_test_scaled.shape)"
   ]
  },
  {
   "cell_type": "code",
   "execution_count": 105,
   "id": "50b14ff4",
   "metadata": {},
   "outputs": [
    {
     "name": "stdout",
     "output_type": "stream",
     "text": [
      "test error for k= 1 is 11.016949152542377\n",
      "test error for k= 2 is 12.711864406779661\n",
      "test error for k= 3 is 11.864406779661019\n",
      "test error for k= 4 is 10.169491525423723\n",
      "test error for k= 5 is 11.864406779661019\n",
      "test error for k= 6 is 11.864406779661019\n",
      "test error for k= 7 is 11.864406779661019\n",
      "test error for k= 8 is 11.016949152542377\n",
      "test error for k= 9 is 11.864406779661019\n",
      "test error for k= 10 is 11.864406779661019\n",
      "test error for k= 11 is 11.864406779661019\n",
      "test error for k= 12 is 11.864406779661019\n",
      "test error for k= 13 is 11.864406779661019\n",
      "test error for k= 14 is 11.864406779661019\n",
      "test error for k= 15 is 11.864406779661019\n",
      "[0.8898305084745762, 0.8728813559322034, 0.8813559322033898, 0.8983050847457628, 0.8813559322033898, 0.8813559322033898, 0.8813559322033898, 0.8898305084745762, 0.8813559322033898, 0.8813559322033898, 0.8813559322033898, 0.8813559322033898, 0.8813559322033898, 0.8813559322033898, 0.8813559322033898]\n"
     ]
    },
    {
     "data": {
      "text/plain": [
       "Text(0, 0.5, 'Accuracy')"
      ]
     },
     "execution_count": 105,
     "metadata": {},
     "output_type": "execute_result"
    },
    {
     "data": {
      "image/png": "[encoded data removed]",
      "text/plain": [
       "<Figure size 432x288 with 1 Axes>"
      ]
     },
     "metadata": {
      "needs_background": "light"
     },
     "output_type": "display_data"
    }
   ],
   "source": [
    "range_k = [1,2,3,4,5,6,7,8,9,10,11,12,13,14,15]\n",
    "test_errors=[]\n",
    "scores_list = []\n",
    "for k in range_k:\n",
    "   classifier = KNeighborsClassifier(n_neighbors=k)\n",
    "   classifier.fit(X_train_scaled, y_train)\n",
    "   y_pred = classifier.predict(X_test_scaled)\n",
    "   scores_list.append(metrics.accuracy_score(y_test,y_pred))\n",
    "   print('test error for k=',k,'is',100*(1-metrics.accuracy_score(y_test,y_pred)))\n",
    "print (scores_list)\n",
    "\n",
    "%matplotlib inline\n",
    "#import matplotlib.pyplot as plt\n",
    "plt.plot(range_k,scores_list)\n",
    "plt.xlabel(\"Value of K\")\n",
    "plt.ylabel(\"Accuracy\")\n"
   ]
  },
  {
   "cell_type": "code",
   "execution_count": 106,
   "id": "ed6547c0",
   "metadata": {},
   "outputs": [
    {
     "name": "stdout",
     "output_type": "stream",
     "text": [
      "Confusion Matrix:\n",
      "[[47  7]\n",
      " [ 5 59]]\n",
      "Classification Report:               precision    recall  f1-score   support\n",
      "\n",
      "           0       0.90      0.87      0.89        54\n",
      "           1       0.89      0.92      0.91        64\n",
      "\n",
      "    accuracy                           0.90       118\n",
      "   macro avg       0.90      0.90      0.90       118\n",
      "weighted avg       0.90      0.90      0.90       118\n",
      "\n"
     ]
    }
   ],
   "source": [
    "#k=4 seems to give the best result\n",
    "\n",
    "classifier = KNeighborsClassifier(n_neighbors=4)\n",
    "classifier.fit(X_train_scaled, y_train)\n",
    "y_pred4 = classifier.predict(X_test_scaled)\n",
    "\n",
    "result = metrics.confusion_matrix(y_test, y_pred4)\n",
    "print(\"Confusion Matrix:\")\n",
    "print(result)\n",
    "\n",
    "result1 = metrics.classification_report(y_test, y_pred4)\n",
    "print(\"Classification Report:\",result1)"
   ]
  },
  {
   "cell_type": "code",
   "execution_count": 107,
   "id": "3d2f89cb",
   "metadata": {},
   "outputs": [
    {
     "data": {
      "text/html": [
       "<div>\n",
       "<style scoped>\n",
       "    .dataframe tbody tr th:only-of-type {\n",
       "        vertical-align: middle;\n",
       "    }\n",
       "\n",
       "    .dataframe tbody tr th {\n",
       "        vertical-align: top;\n",
       "    }\n",
       "\n",
       "    .dataframe thead th {\n",
       "        text-align: right;\n",
       "    }\n",
       "</style>\n",
       "<table border=\"1\" class=\"dataframe\">\n",
       "  <thead>\n",
       "    <tr style=\"text-align: right;\">\n",
       "      <th>Truth</th>\n",
       "      <th>0</th>\n",
       "      <th>1</th>\n",
       "    </tr>\n",
       "    <tr>\n",
       "      <th>Predicted</th>\n",
       "      <th></th>\n",
       "      <th></th>\n",
       "    </tr>\n",
       "  </thead>\n",
       "  <tbody>\n",
       "    <tr>\n",
       "      <th>0</th>\n",
       "      <td>47</td>\n",
       "      <td>5</td>\n",
       "    </tr>\n",
       "    <tr>\n",
       "      <th>1</th>\n",
       "      <td>7</td>\n",
       "      <td>59</td>\n",
       "    </tr>\n",
       "  </tbody>\n",
       "</table>\n",
       "</div>"
      ],
      "text/plain": [
       "Truth       0   1\n",
       "Predicted        \n",
       "0          47   5\n",
       "1           7  59"
      ]
     },
     "execution_count": 107,
     "metadata": {},
     "output_type": "execute_result"
    }
   ],
   "source": [
    "confusion_table(y_pred4, y_test)"
   ]
  },
  {
   "cell_type": "code",
   "execution_count": null,
   "id": "8424e4c4",
   "metadata": {},
   "outputs": [],
   "source": []
  }
 ],
 "metadata": {
  "kernelspec": {
   "display_name": "Python 3 (ipykernel)",
   "language": "python",
   "name": "python3"
  },
  "language_info": {
   "codemirror_mode": {
    "name": "ipython",
    "version": 3
   },
   "file_extension": ".py",
   "mimetype": "text/x-python",
   "name": "python",
   "nbconvert_exporter": "python",
   "pygments_lexer": "ipython3",
   "version": "3.9.7"
  }
 },
 "nbformat": 4,
 "nbformat_minor": 5
}
